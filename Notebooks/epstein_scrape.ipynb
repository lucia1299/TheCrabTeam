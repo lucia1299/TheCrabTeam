{
  "nbformat": 4,
  "nbformat_minor": 0,
  "metadata": {
    "colab": {
      "provenance": []
    },
    "kernelspec": {
      "name": "python3",
      "display_name": "Python 3"
    },
    "language_info": {
      "name": "python"
    }
  },
  "cells": [
    {
      "cell_type": "code",
      "source": [
        "# Set up for running selenium in Google Colab\n",
        "## You don't need to run this code if you do it in Jupyter notebook, or other local Python setting\n",
        "%%shell\n",
        "sudo apt -y update\n",
        "sudo apt install -y wget curl unzip\n",
        "wget http://archive.ubuntu.com/ubuntu/pool/main/libu/libu2f-host/libu2f-udev_1.1.4-1_all.deb\n",
        "dpkg -i libu2f-udev_1.1.4-1_all.deb\n",
        "wget https://dl.google.com/linux/direct/google-chrome-stable_current_amd64.deb\n",
        "dpkg -i google-chrome-stable_current_amd64.deb\n",
        "CHROME_DRIVER_VERSION=`curl -sS chromedriver.storage.googleapis.com/LATEST_RELEASE`\n",
        "wget -N https://chromedriver.storage.googleapis.com/$CHROME_DRIVER_VERSION/chromedriver_linux64.zip -P /tmp/\n",
        "unzip -o /tmp/chromedriver_linux64.zip -d /tmp/\n",
        "chmod +x /tmp/chromedriver\n",
        "mv /tmp/chromedriver /usr/local/bin/chromedriver\n",
        "pip install selenium"
      ],
      "metadata": {
        "colab": {
          "base_uri": "https://localhost:8080/"
        },
        "id": "qL0SS2HZiQ66",
        "outputId": "296a681f-cc0c-4a6f-975d-d3bd26da7d2a"
      },
      "execution_count": 2,
      "outputs": [
        {
          "output_type": "stream",
          "name": "stdout",
          "text": [
            "\u001b[33m\r0% [Working]\u001b[0m\r            \rGet:1 https://cloud.r-project.org/bin/linux/ubuntu jammy-cran40/ InRelease [3,626 B]\n",
            "Get:2 https://developer.download.nvidia.com/compute/cuda/repos/ubuntu2204/x86_64  InRelease [1,581 B]\n",
            "Get:3 https://developer.download.nvidia.com/compute/cuda/repos/ubuntu2204/x86_64  Packages [665 kB]\n",
            "Get:4 http://security.ubuntu.com/ubuntu jammy-security InRelease [110 kB]\n",
            "Hit:5 http://archive.ubuntu.com/ubuntu jammy InRelease\n",
            "Get:6 http://archive.ubuntu.com/ubuntu jammy-updates InRelease [119 kB]\n",
            "Hit:7 http://archive.ubuntu.com/ubuntu jammy-backports InRelease\n",
            "Hit:8 https://ppa.launchpadcontent.net/c2d4u.team/c2d4u4.0+/ubuntu jammy InRelease\n",
            "Get:9 http://archive.ubuntu.com/ubuntu jammy-updates/main amd64 Packages [1,677 kB]\n",
            "Hit:10 https://ppa.launchpadcontent.net/deadsnakes/ppa/ubuntu jammy InRelease\n",
            "Get:11 http://security.ubuntu.com/ubuntu jammy-security/restricted amd64 Packages [1,685 kB]\n",
            "Get:12 https://ppa.launchpadcontent.net/graphics-drivers/ppa/ubuntu jammy InRelease [24.3 kB]\n",
            "Get:13 http://archive.ubuntu.com/ubuntu jammy-updates/restricted amd64 Packages [1,722 kB]\n",
            "Get:14 http://archive.ubuntu.com/ubuntu jammy-updates/universe amd64 Packages [1,326 kB]\n",
            "Get:15 https://ppa.launchpadcontent.net/ubuntugis/ppa/ubuntu jammy InRelease [23.8 kB]\n",
            "Get:16 https://ppa.launchpadcontent.net/graphics-drivers/ppa/ubuntu jammy/main amd64 Packages [44.4 kB]\n",
            "Get:17 https://ppa.launchpadcontent.net/ubuntugis/ppa/ubuntu jammy/main amd64 Packages [66.2 kB]\n",
            "Get:18 http://security.ubuntu.com/ubuntu jammy-security/main amd64 Packages [1,398 kB]\n",
            "Get:19 http://security.ubuntu.com/ubuntu jammy-security/universe amd64 Packages [1,060 kB]\n",
            "Fetched 9,927 kB in 2s (4,840 kB/s)\n",
            "Reading package lists... Done\n",
            "Building dependency tree... Done\n",
            "Reading state information... Done\n",
            "83 packages can be upgraded. Run 'apt list --upgradable' to see them.\n",
            "Reading package lists... Done\n",
            "Building dependency tree... Done\n",
            "Reading state information... Done\n",
            "wget is already the newest version (1.21.2-2ubuntu1).\n",
            "curl is already the newest version (7.81.0-1ubuntu1.15).\n",
            "unzip is already the newest version (6.0-26ubuntu3.1).\n",
            "0 upgraded, 0 newly installed, 0 to remove and 83 not upgraded.\n",
            "--2024-01-30 08:37:40--  http://archive.ubuntu.com/ubuntu/pool/main/libu/libu2f-host/libu2f-udev_1.1.4-1_all.deb\n",
            "Resolving archive.ubuntu.com (archive.ubuntu.com)... 91.189.91.82, 185.125.190.36, 185.125.190.39, ...\n",
            "Connecting to archive.ubuntu.com (archive.ubuntu.com)|91.189.91.82|:80... connected.\n",
            "HTTP request sent, awaiting response... 200 OK\n",
            "Length: 3708 (3.6K) [application/vnd.debian.binary-package]\n",
            "Saving to: ‘libu2f-udev_1.1.4-1_all.deb’\n",
            "\n",
            "libu2f-udev_1.1.4-1 100%[===================>]   3.62K  --.-KB/s    in 0s      \n",
            "\n",
            "2024-01-30 08:37:40 (553 MB/s) - ‘libu2f-udev_1.1.4-1_all.deb’ saved [3708/3708]\n",
            "\n",
            "Selecting previously unselected package libu2f-udev.\n",
            "(Reading database ... 121671 files and directories currently installed.)\n",
            "Preparing to unpack libu2f-udev_1.1.4-1_all.deb ...\n",
            "Unpacking libu2f-udev (1.1.4-1) ...\n",
            "Setting up libu2f-udev (1.1.4-1) ...\n",
            "--2024-01-30 08:37:41--  https://dl.google.com/linux/direct/google-chrome-stable_current_amd64.deb\n",
            "Resolving dl.google.com (dl.google.com)... 142.250.101.91, 142.250.101.190, 142.250.101.93, ...\n",
            "Connecting to dl.google.com (dl.google.com)|142.250.101.91|:443... connected.\n",
            "HTTP request sent, awaiting response... 200 OK\n",
            "Length: 106421968 (101M) [application/x-debian-package]\n",
            "Saving to: ‘google-chrome-stable_current_amd64.deb’\n",
            "\n",
            "google-chrome-stabl 100%[===================>] 101.49M   465MB/s    in 0.2s    \n",
            "\n",
            "2024-01-30 08:37:41 (465 MB/s) - ‘google-chrome-stable_current_amd64.deb’ saved [106421968/106421968]\n",
            "\n",
            "Selecting previously unselected package google-chrome-stable.\n",
            "(Reading database ... 121675 files and directories currently installed.)\n",
            "Preparing to unpack google-chrome-stable_current_amd64.deb ...\n",
            "Unpacking google-chrome-stable (121.0.6167.85-1) ...\n",
            "\u001b[1mdpkg:\u001b[0m dependency problems prevent configuration of google-chrome-stable:\n",
            " google-chrome-stable depends on libvulkan1; however:\n",
            "  Package libvulkan1 is not installed.\n",
            "\n",
            "\u001b[1mdpkg:\u001b[0m error processing package google-chrome-stable (--install):\n",
            " dependency problems - leaving unconfigured\n",
            "Processing triggers for man-db (2.10.2-1) ...\n",
            "Errors were encountered while processing:\n",
            " google-chrome-stable\n",
            "--2024-01-30 08:37:52--  https://chromedriver.storage.googleapis.com/114.0.5735.90/chromedriver_linux64.zip\n",
            "Resolving chromedriver.storage.googleapis.com (chromedriver.storage.googleapis.com)... 142.251.2.207, 142.250.141.207, 2607:f8b0:4023:c0d::cf, ...\n",
            "Connecting to chromedriver.storage.googleapis.com (chromedriver.storage.googleapis.com)|142.251.2.207|:443... connected.\n",
            "HTTP request sent, awaiting response... 200 OK\n",
            "Length: 7407250 (7.1M) [application/zip]\n",
            "Saving to: ‘/tmp/chromedriver_linux64.zip’\n",
            "\n",
            "chromedriver_linux6 100%[===================>]   7.06M  44.6MB/s    in 0.2s    \n",
            "\n",
            "2024-01-30 08:37:52 (44.6 MB/s) - ‘/tmp/chromedriver_linux64.zip’ saved [7407250/7407250]\n",
            "\n",
            "Archive:  /tmp/chromedriver_linux64.zip\n",
            "  inflating: /tmp/chromedriver       \n",
            "  inflating: /tmp/LICENSE.chromedriver  \n",
            "Collecting selenium\n",
            "  Downloading selenium-4.17.2-py3-none-any.whl (9.9 MB)\n",
            "\u001b[2K     \u001b[90m━━━━━━━━━━━━━━━━━━━━━━━━━━━━━━━━━━━━━━━━\u001b[0m \u001b[32m9.9/9.9 MB\u001b[0m \u001b[31m31.3 MB/s\u001b[0m eta \u001b[36m0:00:00\u001b[0m\n",
            "\u001b[?25hRequirement already satisfied: urllib3[socks]<3,>=1.26 in /usr/local/lib/python3.10/dist-packages (from selenium) (2.0.7)\n",
            "Collecting trio~=0.17 (from selenium)\n",
            "  Downloading trio-0.24.0-py3-none-any.whl (460 kB)\n",
            "\u001b[2K     \u001b[90m━━━━━━━━━━━━━━━━━━━━━━━━━━━━━━━━━━━━━━━━\u001b[0m \u001b[32m460.2/460.2 kB\u001b[0m \u001b[31m51.1 MB/s\u001b[0m eta \u001b[36m0:00:00\u001b[0m\n",
            "\u001b[?25hCollecting trio-websocket~=0.9 (from selenium)\n",
            "  Downloading trio_websocket-0.11.1-py3-none-any.whl (17 kB)\n",
            "Requirement already satisfied: certifi>=2021.10.8 in /usr/local/lib/python3.10/dist-packages (from selenium) (2023.11.17)\n",
            "Collecting typing_extensions>=4.9.0 (from selenium)\n",
            "  Downloading typing_extensions-4.9.0-py3-none-any.whl (32 kB)\n",
            "Requirement already satisfied: attrs>=20.1.0 in /usr/local/lib/python3.10/dist-packages (from trio~=0.17->selenium) (23.2.0)\n",
            "Requirement already satisfied: sortedcontainers in /usr/local/lib/python3.10/dist-packages (from trio~=0.17->selenium) (2.4.0)\n",
            "Requirement already satisfied: idna in /usr/local/lib/python3.10/dist-packages (from trio~=0.17->selenium) (3.6)\n",
            "Collecting outcome (from trio~=0.17->selenium)\n",
            "  Downloading outcome-1.3.0.post0-py2.py3-none-any.whl (10 kB)\n",
            "Requirement already satisfied: sniffio>=1.3.0 in /usr/local/lib/python3.10/dist-packages (from trio~=0.17->selenium) (1.3.0)\n",
            "Requirement already satisfied: exceptiongroup in /usr/local/lib/python3.10/dist-packages (from trio~=0.17->selenium) (1.2.0)\n",
            "Collecting wsproto>=0.14 (from trio-websocket~=0.9->selenium)\n",
            "  Downloading wsproto-1.2.0-py3-none-any.whl (24 kB)\n",
            "Requirement already satisfied: pysocks!=1.5.7,<2.0,>=1.5.6 in /usr/local/lib/python3.10/dist-packages (from urllib3[socks]<3,>=1.26->selenium) (1.7.1)\n",
            "Collecting h11<1,>=0.9.0 (from wsproto>=0.14->trio-websocket~=0.9->selenium)\n",
            "  Downloading h11-0.14.0-py3-none-any.whl (58 kB)\n",
            "\u001b[2K     \u001b[90m━━━━━━━━━━━━━━━━━━━━━━━━━━━━━━━━━━━━━━━━\u001b[0m \u001b[32m58.3/58.3 kB\u001b[0m \u001b[31m10.4 MB/s\u001b[0m eta \u001b[36m0:00:00\u001b[0m\n",
            "\u001b[?25hInstalling collected packages: typing_extensions, outcome, h11, wsproto, trio, trio-websocket, selenium\n",
            "  Attempting uninstall: typing_extensions\n",
            "    Found existing installation: typing_extensions 4.5.0\n",
            "    Uninstalling typing_extensions-4.5.0:\n",
            "      Successfully uninstalled typing_extensions-4.5.0\n",
            "\u001b[31mERROR: pip's dependency resolver does not currently take into account all the packages that are installed. This behaviour is the source of the following dependency conflicts.\n",
            "tensorflow-probability 0.22.0 requires typing-extensions<4.6.0, but you have typing-extensions 4.9.0 which is incompatible.\u001b[0m\u001b[31m\n",
            "\u001b[0mSuccessfully installed h11-0.14.0 outcome-1.3.0.post0 selenium-4.17.2 trio-0.24.0 trio-websocket-0.11.1 typing_extensions-4.9.0 wsproto-1.2.0\n"
          ]
        },
        {
          "output_type": "execute_result",
          "data": {
            "text/plain": []
          },
          "metadata": {},
          "execution_count": 2
        }
      ]
    },
    {
      "cell_type": "code",
      "source": [
        "!pip install chromedriver-autoinstaller\n",
        "\n",
        "import sys\n",
        "sys.path.insert(0,'/usr/lib/chromium-browser/chromedriver')\n",
        "\n",
        "import time\n",
        "import pandas as pd\n",
        "from bs4 import BeautifulSoup\n",
        "from selenium import webdriver\n",
        "import chromedriver_autoinstaller\n",
        "\n",
        "# setup chrome options\n",
        "chrome_options = webdriver.ChromeOptions()\n",
        "chrome_options.add_argument('--headless') # ensure GUI is off\n",
        "chrome_options.add_argument('--no-sandbox')\n",
        "chrome_options.add_argument('--disable-dev-shm-usage')\n",
        "\n",
        "# set path to chromedriver as per your configuration\n",
        "chromedriver_autoinstaller.install()"
      ],
      "metadata": {
        "colab": {
          "base_uri": "https://localhost:8080/",
          "height": 125
        },
        "id": "4aRqisqRifwG",
        "outputId": "30882cf1-ec26-4a7a-c3ee-dddfe0d868b8"
      },
      "execution_count": 3,
      "outputs": [
        {
          "output_type": "stream",
          "name": "stdout",
          "text": [
            "Collecting chromedriver-autoinstaller\n",
            "  Downloading chromedriver_autoinstaller-0.6.4-py3-none-any.whl (7.6 kB)\n",
            "Requirement already satisfied: packaging>=23.1 in /usr/local/lib/python3.10/dist-packages (from chromedriver-autoinstaller) (23.2)\n",
            "Installing collected packages: chromedriver-autoinstaller\n",
            "Successfully installed chromedriver-autoinstaller-0.6.4\n"
          ]
        },
        {
          "output_type": "execute_result",
          "data": {
            "text/plain": [
              "'/usr/local/lib/python3.10/dist-packages/chromedriver_autoinstaller/121/chromedriver'"
            ],
            "application/vnd.google.colaboratory.intrinsic+json": {
              "type": "string"
            }
          },
          "metadata": {},
          "execution_count": 3
        }
      ]
    },
    {
      "cell_type": "code",
      "source": [
        "driver = webdriver.Chrome(options=chrome_options)"
      ],
      "metadata": {
        "id": "ZUEXIyyMmGoB"
      },
      "execution_count": null,
      "outputs": []
    },
    {
      "cell_type": "code",
      "source": [
        "# from selenium import webdriver\n",
        "from bs4 import BeautifulSoup\n",
        "import pandas as pd\n",
        "import time\n",
        "\n",
        "url = 'https://datawrapper.dwcdn.net/tUpYW/9/'\n",
        "\n",
        "# Open the webpage\n",
        "driver.get(url)\n",
        "\n",
        "# Wait for a few seconds to ensure the page is loaded\n",
        "time.sleep(5)\n",
        "\n",
        "# Get the page source after it has been modified by JavaScript\n",
        "html = driver.page_source\n",
        "\n",
        "# Close the webdriver\n",
        "driver.quit()\n",
        "\n",
        "# Use BeautifulSoup to parse the modified HTML\n",
        "soup = BeautifulSoup(html, 'html.parser')\n",
        "\n",
        "# Find the table with the specific class\n",
        "table = soup.find('table')\n",
        "\n",
        "# Extract the data directly from the table\n",
        "data = []\n",
        "\n",
        "for row in table.find_all('tr'):\n",
        "    cols = row.find_all(['th', 'td'])\n",
        "    data.append([col.text.strip() for col in cols])\n",
        "\n",
        "# Convert the data to a pandas DataFrame\n",
        "df = pd.DataFrame(data, columns=data[0])\n",
        "\n",
        "# Drop the first row (header) and reset index\n",
        "df = df.iloc[1:].reset_index(drop=True)\n",
        "\n",
        "# Display the data\n",
        "print(df)\n"
      ],
      "metadata": {
        "colab": {
          "base_uri": "https://localhost:8080/"
        },
        "id": "E5RlDLF6gyaI",
        "outputId": "c7e83230-0d3d-4b05-b403-9054e3ea9828"
      },
      "execution_count": null,
      "outputs": [
        {
          "output_type": "stream",
          "name": "stdout",
          "text": [
            "                  Name    Type Page         City State Country Heading  \\\n",
            "0                                                                        \n",
            "1                 Abby  Person    1                                      \n",
            "2           John Agnew  Person    1       London            UK           \n",
            "3   Joanna Abousleiman  Person    1                                      \n",
            "4            Nick Adam  Person    1        Paris                         \n",
            "5     Rufus Albermarle  Person    1     New York    NY      US           \n",
            "6     Sally Albermarle  Person    1     New York    NY      US           \n",
            "7     Saffron Aldridge  Person    1       London            UK           \n",
            "8      Charlie Althorp  Person    1                                      \n",
            "9   Marie Claire Agnew  Person    1       London                         \n",
            "10          Paul Allan  Person    1                                      \n",
            "11      Alejandro Agag  Person    1                                      \n",
            "12    Giacomo Algranti  Person    1       London                         \n",
            "13       Pam Alexander  Person    1                                      \n",
            "14          Nick Allan  Person    1    Hong Kong            CN           \n",
            "15         Sarah Allan  Person    1    Hong Kong            CN           \n",
            "16  Carella Alun-Jones  Person    2       London            UK           \n",
            "17  Deborah Alun-Jones  Person    2  West Sussex            UK           \n",
            "18   Jeremy Alun-Jones  Person    2  West Sussex            UK           \n",
            "19        Maurice Amon  Person    2     New York    NY      US           \n",
            "20        Roberta Amon  Person    2     New York    NY      US           \n",
            "21       Philippe Amon  Person    2      Aubonne            CH           \n",
            "22        Lisa Anastos  Person    2     New York    NY      US           \n",
            "23       Lulu Anderson  Person    2                                      \n",
            "24        Alex Appleby  Person    2       London            UK           \n",
            "\n",
            "   Rodriguez Annotations Inline Annotations Associated Terms Associated Entity  \n",
            "0                                                                               \n",
            "1                                                                               \n",
            "2                                                                               \n",
            "3                                                                               \n",
            "4                                                                               \n",
            "5                                                                               \n",
            "6                                                                               \n",
            "7                                                                               \n",
            "8                                                                               \n",
            "9                                                                               \n",
            "10                                                                              \n",
            "11                                                                              \n",
            "12                                                                              \n",
            "13                                                                              \n",
            "14                                                                              \n",
            "15                                                                              \n",
            "16                                                                              \n",
            "17                                                                              \n",
            "18                                                                              \n",
            "19                                                                              \n",
            "20                                                                              \n",
            "21                                                                              \n",
            "22                                                                              \n",
            "23                                                                              \n",
            "24                                                                              \n"
          ]
        }
      ]
    },
    {
      "cell_type": "code",
      "source": [
        "from google.colab import drive\n",
        "drive.mount('/content/drive')"
      ],
      "metadata": {
        "colab": {
          "base_uri": "https://localhost:8080/"
        },
        "id": "T9MsiLhCrNUC",
        "outputId": "98d9860b-dede-4e59-fe7f-ca794e184b1a"
      },
      "execution_count": 18,
      "outputs": [
        {
          "output_type": "stream",
          "name": "stdout",
          "text": [
            "Drive already mounted at /content/drive; to attempt to forcibly remount, call drive.mount(\"/content/drive\", force_remount=True).\n"
          ]
        }
      ]
    },
    {
      "cell_type": "code",
      "source": [
        "from re import X\n",
        "driver = webdriver.Chrome(options=chrome_options)\n",
        "import requests\n",
        "from selenium.webdriver.common.by import By\n",
        "from selenium.webdriver.common.keys import Keys\n",
        "from selenium.webdriver.support.ui import WebDriverWait\n",
        "from selenium.webdriver.support import expected_conditions as EC\n",
        "\n",
        "url = \"https://datawrapper.dwcdn.net/tUpYW/9/\"\n",
        "\n",
        "all_data = []\n",
        "\n",
        "driver.get(url)\n",
        "# page_count = len(driver.find_elements(By.CSS_SELECTOR, \"//div[@class='medium css-g3m580 svelte-fugjkr striped compact resortable]\"))\n",
        "\n",
        "button = WebDriverWait(driver, 30).until(EC.visibility_of_all_elements_located((By.CLASS_NAME, \"next\")))\n",
        "\n",
        "for btn in button:\n",
        "  btn.click()\n",
        "\n",
        "for i in range(70):\n",
        "  time.sleep(2)\n",
        "  html = driver.page_source\n",
        "\n",
        "  # Use BeautifulSoup to parse the modified HTML\n",
        "  soup = BeautifulSoup(html, 'html.parser')\n",
        "\n",
        "  # Find the table with the specific class\n",
        "  table = soup.find('table')\n",
        "\n",
        "  # Extract the data directly from the table\n",
        "  data = []\n",
        "\n",
        "  for row in table.find_all('tr'):\n",
        "      cols = row.find_all(['th', 'td'])\n",
        "      data.append([col.text.strip() for col in cols])\n",
        "\n",
        "  # Add the data from the current page to the overall list\n",
        "  all_data.extend(data)\n",
        "\n",
        "if all_data:\n",
        "    df = pd.DataFrame(all_data, columns=all_data[0])\n",
        "\n",
        "    # Drop the first row (header) and reset index\n",
        "    df = df.iloc[1:].reset_index(drop=True)\n",
        "\n",
        "    # Write the DataFrame to a CSV file\n",
        "    csv_path = '/content/drive/MyDrive/output_data.csv'\n",
        "    df.to_csv(csv_path, index=False)\n",
        "\n",
        "    # Display the data\n",
        "    print(df)\n",
        "    print(f\"Data has been written to {csv_path}\")\n",
        "else:\n",
        "    print(\"No data found.\")\n",
        "\n",
        "# Close the webdriver\n",
        "driver.quit()\n",
        ""
      ],
      "metadata": {
        "colab": {
          "base_uri": "https://localhost:8080/"
        },
        "id": "_3KkzcTbwvZ9",
        "outputId": "6f5ac6c2-b9d8-4361-da25-04ac554378ab"
      },
      "execution_count": 19,
      "outputs": [
        {
          "output_type": "stream",
          "name": "stdout",
          "text": [
            "                            Name    Type Page      City State Country Heading  \\\n",
            "0                 Robert Appleby  Person    2    London            UK           \n",
            "1                   Maite Arango  Person    2    Madrid            ES           \n",
            "2                  Philippe Amon  Person    2   Aubonne            CH           \n",
            "3                Vicente Alvarez  Person    2                                   \n",
            "4         Viscount William Astor  Person    3                                   \n",
            "...                          ...     ...  ...       ...   ...     ...     ...   \n",
            "1814            Shariar Bakhtiar  Person    3                                   \n",
            "1815  Joaquin Fernandez de Arion  Person    3    Madrid            ES           \n",
            "1816               Simon Astaire  Person    3    London            UK           \n",
            "1817              Fernando Arion  Person    3  New York    NY      US           \n",
            "1818            Arthur Armstrong  Person    3                                   \n",
            "\n",
            "     Rodriguez Annotations Inline Annotations Associated Terms  \\\n",
            "0                                                                \n",
            "1                                                                \n",
            "2                                                                \n",
            "3                                                                \n",
            "4                                                                \n",
            "...                    ...                ...              ...   \n",
            "1814                                                             \n",
            "1815                                                             \n",
            "1816                                                             \n",
            "1817                                                             \n",
            "1818                                                             \n",
            "\n",
            "     Associated Entity  \n",
            "0                       \n",
            "1                       \n",
            "2                       \n",
            "3                       \n",
            "4                       \n",
            "...                ...  \n",
            "1814                    \n",
            "1815                    \n",
            "1816                    \n",
            "1817                    \n",
            "1818                    \n",
            "\n",
            "[1819 rows x 11 columns]\n",
            "Data has been written to /content/drive/MyDrive/output_data.csv\n"
          ]
        }
      ]
    }
  ]
}
{
  "nbformat": 4,
  "nbformat_minor": 0,
  "metadata": {
    "colab": {
      "provenance": [],
      "collapsed_sections": [
        "gLhn4EMcTjp1",
        "gq_emvkODOaM",
        "WKgjcc-T_f0K",
        "NK3Dbs0W1-bu",
        "hsJrSsokBXbQ",
        "ceXfbpLeBPwM",
        "7FJN0s785qAE",
        "OhFBW9Du8gUw",
        "9yx9fFFJKRLa",
        "52XAITEP_6o5",
        "jlxQ9Eqi-1AK",
        "F4YdxORJ_nFA"
      ]
    },
    "kernelspec": {
      "name": "python3",
      "display_name": "Python 3"
    },
    "language_info": {
      "name": "python"
    }
  },
  "cells": [
    {
      "cell_type": "markdown",
      "source": [
        "# Unravelling the Social Web: A Network Analysis of Jeffrey Epstein's Sphere\n",
        "\n",
        "\n",
        "\n",
        "\n",
        "\n"
      ],
      "metadata": {
        "id": "q3QdS-nhS9vm"
      }
    },
    {
      "cell_type": "code",
      "source": [
        "pip install powerlaw"
      ],
      "metadata": {
        "colab": {
          "base_uri": "https://localhost:8080/"
        },
        "id": "oPQppYEn6rFa",
        "outputId": "3d65b966-1264-4a5b-c876-dfd4819c056f"
      },
      "execution_count": null,
      "outputs": [
        {
          "output_type": "stream",
          "name": "stdout",
          "text": [
            "Collecting powerlaw\n",
            "  Downloading powerlaw-1.5-py3-none-any.whl (24 kB)\n",
            "Requirement already satisfied: scipy in /usr/local/lib/python3.10/dist-packages (from powerlaw) (1.11.4)\n",
            "Requirement already satisfied: numpy in /usr/local/lib/python3.10/dist-packages (from powerlaw) (1.25.2)\n",
            "Requirement already satisfied: matplotlib in /usr/local/lib/python3.10/dist-packages (from powerlaw) (3.7.1)\n",
            "Requirement already satisfied: mpmath in /usr/local/lib/python3.10/dist-packages (from powerlaw) (1.3.0)\n",
            "Requirement already satisfied: contourpy>=1.0.1 in /usr/local/lib/python3.10/dist-packages (from matplotlib->powerlaw) (1.2.0)\n",
            "Requirement already satisfied: cycler>=0.10 in /usr/local/lib/python3.10/dist-packages (from matplotlib->powerlaw) (0.12.1)\n",
            "Requirement already satisfied: fonttools>=4.22.0 in /usr/local/lib/python3.10/dist-packages (from matplotlib->powerlaw) (4.49.0)\n",
            "Requirement already satisfied: kiwisolver>=1.0.1 in /usr/local/lib/python3.10/dist-packages (from matplotlib->powerlaw) (1.4.5)\n",
            "Requirement already satisfied: packaging>=20.0 in /usr/local/lib/python3.10/dist-packages (from matplotlib->powerlaw) (23.2)\n",
            "Requirement already satisfied: pillow>=6.2.0 in /usr/local/lib/python3.10/dist-packages (from matplotlib->powerlaw) (9.4.0)\n",
            "Requirement already satisfied: pyparsing>=2.3.1 in /usr/local/lib/python3.10/dist-packages (from matplotlib->powerlaw) (3.1.1)\n",
            "Requirement already satisfied: python-dateutil>=2.7 in /usr/local/lib/python3.10/dist-packages (from matplotlib->powerlaw) (2.8.2)\n",
            "Requirement already satisfied: six>=1.5 in /usr/local/lib/python3.10/dist-packages (from python-dateutil>=2.7->matplotlib->powerlaw) (1.16.0)\n",
            "Installing collected packages: powerlaw\n",
            "Successfully installed powerlaw-1.5\n"
          ]
        }
      ]
    },
    {
      "cell_type": "code",
      "execution_count": null,
      "metadata": {
        "id": "XxspHy4YxkkT"
      },
      "outputs": [],
      "source": [
        "import networkx as nx\n",
        "import pandas as pd\n",
        "import matplotlib.pyplot as plt\n",
        "import numpy as np\n",
        "import powerlaw\n",
        "import statistics as st"
      ]
    },
    {
      "cell_type": "markdown",
      "source": [
        "## **Upload Graph**"
      ],
      "metadata": {
        "id": "t-1tT47OTVlU"
      }
    },
    {
      "cell_type": "code",
      "source": [
        "from google.colab import drive\n",
        "drive.mount('/content/drive')"
      ],
      "metadata": {
        "colab": {
          "base_uri": "https://localhost:8080/"
        },
        "id": "oaJtV7i4r3Sw",
        "outputId": "416ff4c3-5825-4e42-b7a9-aded36aebb05"
      },
      "execution_count": null,
      "outputs": [
        {
          "output_type": "stream",
          "name": "stdout",
          "text": [
            "Mounted at /content/drive\n"
          ]
        }
      ]
    },
    {
      "cell_type": "code",
      "source": [
        "path = 'drive/MyDrive/'"
      ],
      "metadata": {
        "id": "TpzkleyHsGlm"
      },
      "execution_count": null,
      "outputs": []
    },
    {
      "cell_type": "code",
      "source": [
        "G = nx.read_graphml(path + 'ae_network.graphml')\n",
        "node_name = nx.get_node_attributes(G, \"name\")"
      ],
      "metadata": {
        "id": "Za-4m8dv2jjJ"
      },
      "execution_count": null,
      "outputs": []
    },
    {
      "cell_type": "markdown",
      "source": [
        "## **Preliminary Steps**"
      ],
      "metadata": {
        "id": "gLhn4EMcTjp1"
      }
    },
    {
      "cell_type": "markdown",
      "source": [
        "\n",
        "\n",
        "### Remove isolated nodes\n",
        "\n",
        "When approeaching the calculation of the degree of distrubtion, it was clear to us that there were some isolated nodes in the graph that escaped the data cleaning phase, according to which all passengers travelling alone were going to be excluded from the analysis. Therefore, the isolated nodes have been removed from the graph before performing all the analysis below."
      ],
      "metadata": {
        "id": "gq_emvkODOaM"
      }
    },
    {
      "cell_type": "code",
      "source": [
        "#If a node has a degree of 0, it means that there are no edges connected to it\n",
        "degree_distribution = dict(nx.degree(G))\n",
        "\n",
        "# Determine the minimum and maximum degree in the graph\n",
        "min_degree = min(degree_distribution.values())\n",
        "\n",
        "# Count the occurrences of the minimum degree\n",
        "min_degree_count = list(degree_distribution.values()).count(min_degree)\n",
        "\n",
        "print(\"Minimum degree:\", min_degree)\n",
        "print(\"Number of occurrences:\", min_degree_count)"
      ],
      "metadata": {
        "colab": {
          "base_uri": "https://localhost:8080/"
        },
        "id": "65Ys5PACEDE3",
        "outputId": "49dab1fe-00b4-4c9c-d739-9530e6b74e3b"
      },
      "execution_count": null,
      "outputs": [
        {
          "output_type": "stream",
          "name": "stdout",
          "text": [
            "Minimum degree: 0\n",
            "Number of occurrences: 274\n"
          ]
        }
      ]
    },
    {
      "cell_type": "markdown",
      "source": [
        "After cross checking with the original database whether the nodes were actually isolated, they were removed from the graph G."
      ],
      "metadata": {
        "id": "aZr4CES7MPo3"
      }
    },
    {
      "cell_type": "code",
      "source": [
        "isolated_nodes = list(nx.isolates(G))\n",
        "print(isolated_nodes)"
      ],
      "metadata": {
        "colab": {
          "base_uri": "https://localhost:8080/"
        },
        "id": "JK89uyf8MZsY",
        "outputId": "29b78c78-af6d-492b-e022-f3354510acc3"
      },
      "execution_count": null,
      "outputs": [
        {
          "output_type": "stream",
          "name": "stdout",
          "text": [
            "['0', '3', '4', '6', '7', '9', '10', '12', '15', '18', '20', '23', '24', '28', '29', '30', '31', '32', '33', '36', '37', '38', '39', '40', '41', '43', '44', '45', '46', '48', '49', '50', '53', '54', '57', '60', '61', '64', '65', '67', '69', '70', '71', '74', '75', '76', '77', '78', '79', '80', '81', '82', '83', '84', '85', '86', '87', '88', '89', '92', '93', '94', '95', '96', '99', '100', '102', '103', '105', '107', '108', '109', '110', '111', '112', '115', '116', '118', '119', '120', '121', '122', '123', '124', '125', '126', '127', '128', '129', '133', '135', '136', '138', '139', '140', '141', '142', '144', '145', '146', '148', '149', '150', '152', '153', '155', '157', '158', '160', '161', '162', '163', '164', '165', '168', '169', '172', '175', '176', '177', '179', '180', '182', '183', '184', '189', '190', '191', '194', '195', '196', '197', '198', '200', '201', '202', '203', '204', '205', '206', '208', '210', '212', '214', '215', '216', '217', '218', '219', '220', '221', '225', '226', '228', '229', '230', '231', '235', '236', '237', '238', '239', '240', '241', '242', '245', '246', '247', '248', '249', '251', '255', '256', '258', '259', '261', '262', '263', '264', '265', '266', '268', '269', '270', '271', '272', '273', '274', '275', '276', '277', '283', '284', '285', '286', '288', '289', '290', '291', '292', '293', '295', '297', '298', '300', '301', '302', '303', '304', '305', '306', '308', '309', '310', '311', '312', '313', '314', '316', '317', '318', '319', '322', '323', '325', '326', '327', '328', '330', '331', '332', '334', '335', '336', '337', '338', '339', '344', '345', '346', '347', '348', '349', '350', '351', '352', '355', '356', '357', '358', '359', '362', '363', '365', '366', '367', '369', '370', '371', '372', '373', '374', '376', '377', '378', '381', '382', '383', '385', '386', '390', '391', '393', '397']\n"
          ]
        }
      ]
    },
    {
      "cell_type": "code",
      "source": [
        "G.remove_nodes_from(isolated_nodes)"
      ],
      "metadata": {
        "id": "B_pQcT77Ehl0"
      },
      "execution_count": null,
      "outputs": []
    },
    {
      "cell_type": "markdown",
      "source": [
        "## **Centrality Measures**"
      ],
      "metadata": {
        "id": "WKgjcc-T_f0K"
      }
    },
    {
      "cell_type": "markdown",
      "source": [
        "### Degree Centrality\n"
      ],
      "metadata": {
        "id": "NK3Dbs0W1-bu"
      }
    },
    {
      "cell_type": "markdown",
      "source": [
        "\n",
        "In our analysis, we focused on several centrality measurements to gain insights into the significance and influence of individuals within Epstein's network. For this study, the degree centrality serves as a vital indicator of an individual's prominence and influence within Jeffrey Epstein's network and therefore it has been applied to all of our graphs/networks. A node with a high degree centrality indicates a greater number of direct connections, suggesting a central role in the network's structure and dynamics."
      ],
      "metadata": {
        "id": "RDokvETdx50u"
      }
    },
    {
      "cell_type": "code",
      "source": [
        "degree_centrality = nx.degree_centrality(G)\n",
        "dc_data = pd.DataFrame({\"Id\": list(degree_centrality.keys()),\n",
        "                        \"Name\": [node_name[node] for node in degree_centrality.keys()],\n",
        "                        \"DegreeCentrality\": list(degree_centrality.values())\n",
        "                        }).sort_values(by=\"DegreeCentrality\", ascending=False).reset_index(drop=True)\n",
        "\n",
        "dc_data.head(10)"
      ],
      "metadata": {
        "id": "ENCmjGKR2D7t",
        "colab": {
          "base_uri": "https://localhost:8080/",
          "height": 363
        },
        "outputId": "30ef6e75-5919-44a3-8d4a-17895e3bc8ef"
      },
      "execution_count": null,
      "outputs": [
        {
          "output_type": "execute_result",
          "data": {
            "text/plain": [
              "    Id                     Name  DegreeCentrality\n",
              "0  211           Kenneth Gilman           0.04878\n",
              "1   47               Bruce Soll           0.04878\n",
              "2  188            Jerry Merritt           0.04878\n",
              "3  186               Jerry Beck           0.04878\n",
              "4  232               Les Wexner           0.04878\n",
              "5  171  James S. (Jim) Forsbach           0.04878\n",
              "6  342             Samuel Fried           0.04878\n",
              "7  192              Jimmy Cayne           0.03252\n",
              "8  166            Ira Zicherman           0.03252\n",
              "9    1     Alan (Ace) Greenberg           0.03252"
            ],
            "text/html": [
              "\n",
              "  <div id=\"df-17b5bce2-f2d0-4fdd-a8c7-aed299d943c3\" class=\"colab-df-container\">\n",
              "    <div>\n",
              "<style scoped>\n",
              "    .dataframe tbody tr th:only-of-type {\n",
              "        vertical-align: middle;\n",
              "    }\n",
              "\n",
              "    .dataframe tbody tr th {\n",
              "        vertical-align: top;\n",
              "    }\n",
              "\n",
              "    .dataframe thead th {\n",
              "        text-align: right;\n",
              "    }\n",
              "</style>\n",
              "<table border=\"1\" class=\"dataframe\">\n",
              "  <thead>\n",
              "    <tr style=\"text-align: right;\">\n",
              "      <th></th>\n",
              "      <th>Id</th>\n",
              "      <th>Name</th>\n",
              "      <th>DegreeCentrality</th>\n",
              "    </tr>\n",
              "  </thead>\n",
              "  <tbody>\n",
              "    <tr>\n",
              "      <th>0</th>\n",
              "      <td>211</td>\n",
              "      <td>Kenneth Gilman</td>\n",
              "      <td>0.04878</td>\n",
              "    </tr>\n",
              "    <tr>\n",
              "      <th>1</th>\n",
              "      <td>47</td>\n",
              "      <td>Bruce Soll</td>\n",
              "      <td>0.04878</td>\n",
              "    </tr>\n",
              "    <tr>\n",
              "      <th>2</th>\n",
              "      <td>188</td>\n",
              "      <td>Jerry Merritt</td>\n",
              "      <td>0.04878</td>\n",
              "    </tr>\n",
              "    <tr>\n",
              "      <th>3</th>\n",
              "      <td>186</td>\n",
              "      <td>Jerry Beck</td>\n",
              "      <td>0.04878</td>\n",
              "    </tr>\n",
              "    <tr>\n",
              "      <th>4</th>\n",
              "      <td>232</td>\n",
              "      <td>Les Wexner</td>\n",
              "      <td>0.04878</td>\n",
              "    </tr>\n",
              "    <tr>\n",
              "      <th>5</th>\n",
              "      <td>171</td>\n",
              "      <td>James S. (Jim) Forsbach</td>\n",
              "      <td>0.04878</td>\n",
              "    </tr>\n",
              "    <tr>\n",
              "      <th>6</th>\n",
              "      <td>342</td>\n",
              "      <td>Samuel Fried</td>\n",
              "      <td>0.04878</td>\n",
              "    </tr>\n",
              "    <tr>\n",
              "      <th>7</th>\n",
              "      <td>192</td>\n",
              "      <td>Jimmy Cayne</td>\n",
              "      <td>0.03252</td>\n",
              "    </tr>\n",
              "    <tr>\n",
              "      <th>8</th>\n",
              "      <td>166</td>\n",
              "      <td>Ira Zicherman</td>\n",
              "      <td>0.03252</td>\n",
              "    </tr>\n",
              "    <tr>\n",
              "      <th>9</th>\n",
              "      <td>1</td>\n",
              "      <td>Alan (Ace) Greenberg</td>\n",
              "      <td>0.03252</td>\n",
              "    </tr>\n",
              "  </tbody>\n",
              "</table>\n",
              "</div>\n",
              "    <div class=\"colab-df-buttons\">\n",
              "\n",
              "  <div class=\"colab-df-container\">\n",
              "    <button class=\"colab-df-convert\" onclick=\"convertToInteractive('df-17b5bce2-f2d0-4fdd-a8c7-aed299d943c3')\"\n",
              "            title=\"Convert this dataframe to an interactive table.\"\n",
              "            style=\"display:none;\">\n",
              "\n",
              "  <svg xmlns=\"http://www.w3.org/2000/svg\" height=\"24px\" viewBox=\"0 -960 960 960\">\n",
              "    <path d=\"M120-120v-720h720v720H120Zm60-500h600v-160H180v160Zm220 220h160v-160H400v160Zm0 220h160v-160H400v160ZM180-400h160v-160H180v160Zm440 0h160v-160H620v160ZM180-180h160v-160H180v160Zm440 0h160v-160H620v160Z\"/>\n",
              "  </svg>\n",
              "    </button>\n",
              "\n",
              "  <style>\n",
              "    .colab-df-container {\n",
              "      display:flex;\n",
              "      gap: 12px;\n",
              "    }\n",
              "\n",
              "    .colab-df-convert {\n",
              "      background-color: #E8F0FE;\n",
              "      border: none;\n",
              "      border-radius: 50%;\n",
              "      cursor: pointer;\n",
              "      display: none;\n",
              "      fill: #1967D2;\n",
              "      height: 32px;\n",
              "      padding: 0 0 0 0;\n",
              "      width: 32px;\n",
              "    }\n",
              "\n",
              "    .colab-df-convert:hover {\n",
              "      background-color: #E2EBFA;\n",
              "      box-shadow: 0px 1px 2px rgba(60, 64, 67, 0.3), 0px 1px 3px 1px rgba(60, 64, 67, 0.15);\n",
              "      fill: #174EA6;\n",
              "    }\n",
              "\n",
              "    .colab-df-buttons div {\n",
              "      margin-bottom: 4px;\n",
              "    }\n",
              "\n",
              "    [theme=dark] .colab-df-convert {\n",
              "      background-color: #3B4455;\n",
              "      fill: #D2E3FC;\n",
              "    }\n",
              "\n",
              "    [theme=dark] .colab-df-convert:hover {\n",
              "      background-color: #434B5C;\n",
              "      box-shadow: 0px 1px 3px 1px rgba(0, 0, 0, 0.15);\n",
              "      filter: drop-shadow(0px 1px 2px rgba(0, 0, 0, 0.3));\n",
              "      fill: #FFFFFF;\n",
              "    }\n",
              "  </style>\n",
              "\n",
              "    <script>\n",
              "      const buttonEl =\n",
              "        document.querySelector('#df-17b5bce2-f2d0-4fdd-a8c7-aed299d943c3 button.colab-df-convert');\n",
              "      buttonEl.style.display =\n",
              "        google.colab.kernel.accessAllowed ? 'block' : 'none';\n",
              "\n",
              "      async function convertToInteractive(key) {\n",
              "        const element = document.querySelector('#df-17b5bce2-f2d0-4fdd-a8c7-aed299d943c3');\n",
              "        const dataTable =\n",
              "          await google.colab.kernel.invokeFunction('convertToInteractive',\n",
              "                                                    [key], {});\n",
              "        if (!dataTable) return;\n",
              "\n",
              "        const docLinkHtml = 'Like what you see? Visit the ' +\n",
              "          '<a target=\"_blank\" href=https://colab.research.google.com/notebooks/data_table.ipynb>data table notebook</a>'\n",
              "          + ' to learn more about interactive tables.';\n",
              "        element.innerHTML = '';\n",
              "        dataTable['output_type'] = 'display_data';\n",
              "        await google.colab.output.renderOutput(dataTable, element);\n",
              "        const docLink = document.createElement('div');\n",
              "        docLink.innerHTML = docLinkHtml;\n",
              "        element.appendChild(docLink);\n",
              "      }\n",
              "    </script>\n",
              "  </div>\n",
              "\n",
              "\n",
              "<div id=\"df-157ff400-296f-4783-9cab-f4cb6c44e585\">\n",
              "  <button class=\"colab-df-quickchart\" onclick=\"quickchart('df-157ff400-296f-4783-9cab-f4cb6c44e585')\"\n",
              "            title=\"Suggest charts\"\n",
              "            style=\"display:none;\">\n",
              "\n",
              "<svg xmlns=\"http://www.w3.org/2000/svg\" height=\"24px\"viewBox=\"0 0 24 24\"\n",
              "     width=\"24px\">\n",
              "    <g>\n",
              "        <path d=\"M19 3H5c-1.1 0-2 .9-2 2v14c0 1.1.9 2 2 2h14c1.1 0 2-.9 2-2V5c0-1.1-.9-2-2-2zM9 17H7v-7h2v7zm4 0h-2V7h2v10zm4 0h-2v-4h2v4z\"/>\n",
              "    </g>\n",
              "</svg>\n",
              "  </button>\n",
              "\n",
              "<style>\n",
              "  .colab-df-quickchart {\n",
              "      --bg-color: #E8F0FE;\n",
              "      --fill-color: #1967D2;\n",
              "      --hover-bg-color: #E2EBFA;\n",
              "      --hover-fill-color: #174EA6;\n",
              "      --disabled-fill-color: #AAA;\n",
              "      --disabled-bg-color: #DDD;\n",
              "  }\n",
              "\n",
              "  [theme=dark] .colab-df-quickchart {\n",
              "      --bg-color: #3B4455;\n",
              "      --fill-color: #D2E3FC;\n",
              "      --hover-bg-color: #434B5C;\n",
              "      --hover-fill-color: #FFFFFF;\n",
              "      --disabled-bg-color: #3B4455;\n",
              "      --disabled-fill-color: #666;\n",
              "  }\n",
              "\n",
              "  .colab-df-quickchart {\n",
              "    background-color: var(--bg-color);\n",
              "    border: none;\n",
              "    border-radius: 50%;\n",
              "    cursor: pointer;\n",
              "    display: none;\n",
              "    fill: var(--fill-color);\n",
              "    height: 32px;\n",
              "    padding: 0;\n",
              "    width: 32px;\n",
              "  }\n",
              "\n",
              "  .colab-df-quickchart:hover {\n",
              "    background-color: var(--hover-bg-color);\n",
              "    box-shadow: 0 1px 2px rgba(60, 64, 67, 0.3), 0 1px 3px 1px rgba(60, 64, 67, 0.15);\n",
              "    fill: var(--button-hover-fill-color);\n",
              "  }\n",
              "\n",
              "  .colab-df-quickchart-complete:disabled,\n",
              "  .colab-df-quickchart-complete:disabled:hover {\n",
              "    background-color: var(--disabled-bg-color);\n",
              "    fill: var(--disabled-fill-color);\n",
              "    box-shadow: none;\n",
              "  }\n",
              "\n",
              "  .colab-df-spinner {\n",
              "    border: 2px solid var(--fill-color);\n",
              "    border-color: transparent;\n",
              "    border-bottom-color: var(--fill-color);\n",
              "    animation:\n",
              "      spin 1s steps(1) infinite;\n",
              "  }\n",
              "\n",
              "  @keyframes spin {\n",
              "    0% {\n",
              "      border-color: transparent;\n",
              "      border-bottom-color: var(--fill-color);\n",
              "      border-left-color: var(--fill-color);\n",
              "    }\n",
              "    20% {\n",
              "      border-color: transparent;\n",
              "      border-left-color: var(--fill-color);\n",
              "      border-top-color: var(--fill-color);\n",
              "    }\n",
              "    30% {\n",
              "      border-color: transparent;\n",
              "      border-left-color: var(--fill-color);\n",
              "      border-top-color: var(--fill-color);\n",
              "      border-right-color: var(--fill-color);\n",
              "    }\n",
              "    40% {\n",
              "      border-color: transparent;\n",
              "      border-right-color: var(--fill-color);\n",
              "      border-top-color: var(--fill-color);\n",
              "    }\n",
              "    60% {\n",
              "      border-color: transparent;\n",
              "      border-right-color: var(--fill-color);\n",
              "    }\n",
              "    80% {\n",
              "      border-color: transparent;\n",
              "      border-right-color: var(--fill-color);\n",
              "      border-bottom-color: var(--fill-color);\n",
              "    }\n",
              "    90% {\n",
              "      border-color: transparent;\n",
              "      border-bottom-color: var(--fill-color);\n",
              "    }\n",
              "  }\n",
              "</style>\n",
              "\n",
              "  <script>\n",
              "    async function quickchart(key) {\n",
              "      const quickchartButtonEl =\n",
              "        document.querySelector('#' + key + ' button');\n",
              "      quickchartButtonEl.disabled = true;  // To prevent multiple clicks.\n",
              "      quickchartButtonEl.classList.add('colab-df-spinner');\n",
              "      try {\n",
              "        const charts = await google.colab.kernel.invokeFunction(\n",
              "            'suggestCharts', [key], {});\n",
              "      } catch (error) {\n",
              "        console.error('Error during call to suggestCharts:', error);\n",
              "      }\n",
              "      quickchartButtonEl.classList.remove('colab-df-spinner');\n",
              "      quickchartButtonEl.classList.add('colab-df-quickchart-complete');\n",
              "    }\n",
              "    (() => {\n",
              "      let quickchartButtonEl =\n",
              "        document.querySelector('#df-157ff400-296f-4783-9cab-f4cb6c44e585 button');\n",
              "      quickchartButtonEl.style.display =\n",
              "        google.colab.kernel.accessAllowed ? 'block' : 'none';\n",
              "    })();\n",
              "  </script>\n",
              "</div>\n",
              "    </div>\n",
              "  </div>\n"
            ],
            "application/vnd.google.colaboratory.intrinsic+json": {
              "type": "dataframe",
              "variable_name": "dc_data",
              "summary": "{\n  \"name\": \"dc_data\",\n  \"rows\": 124,\n  \"fields\": [\n    {\n      \"column\": \"Id\",\n      \"properties\": {\n        \"dtype\": \"string\",\n        \"num_unique_values\": 124,\n        \"samples\": [\n          \"387\",\n          \"368\",\n          \"395\"\n        ],\n        \"semantic_type\": \"\",\n        \"description\": \"\"\n      }\n    },\n    {\n      \"column\": \"Name\",\n      \"properties\": {\n        \"dtype\": \"string\",\n        \"num_unique_values\": 122,\n        \"samples\": [\n          \"Vera Wang\",\n          \"Sophie Van Van Hauen\",\n          \"Tim Martin\"\n        ],\n        \"semantic_type\": \"\",\n        \"description\": \"\"\n      }\n    },\n    {\n      \"column\": \"DegreeCentrality\",\n      \"properties\": {\n        \"dtype\": \"number\",\n        \"std\": 0.01038547798147245,\n        \"min\": 0.008130081300813009,\n        \"max\": 0.04878048780487805,\n        \"num_unique_values\": 4,\n        \"samples\": [\n          0.032520325203252036,\n          0.008130081300813009,\n          0.04878048780487805\n        ],\n        \"semantic_type\": \"\",\n        \"description\": \"\"\n      }\n    }\n  ]\n}"
            }
          },
          "metadata": {},
          "execution_count": 9
        }
      ]
    },
    {
      "cell_type": "markdown",
      "source": [
        "For the Associated Entities network, the highest degree centrality with a centrality score of 0.04878 belongs to “Kenneth Gilman” along with the other six individuals who share the associated entity “The Limited, Inc.”.\n",
        "Even though we see that “JE” and “GM” seem highly important in the Flights graph, in the Cities and Associated Entities graphs they do not share the same importance. Since “JE” has “Little St. James” for location in the Cities graph, he is not included in the biggest clique of that graph and not included in the Associated Entities graph as well."
      ],
      "metadata": {
        "id": "_k1dLS8RVEsv"
      }
    },
    {
      "cell_type": "markdown",
      "source": [
        "\n",
        "### Eigenvector Centrality\n"
      ],
      "metadata": {
        "id": "hsJrSsokBXbQ"
      }
    },
    {
      "cell_type": "markdown",
      "source": [
        "\n",
        "Eigenvector centrality measures the importance of a node in a network by considering both the network topology and the weights of its connections. It reflects not only the number of connections but also the quality of those connections, emphasising nodes that are connected to other influential nodes."
      ],
      "metadata": {
        "id": "T4oDmMhKx9FU"
      }
    },
    {
      "cell_type": "code",
      "source": [
        "weighted_eigenvector_centrality = nx.eigenvector_centrality(G)\n",
        "\n",
        "wec_data = pd.DataFrame({\"Id\": list(weighted_eigenvector_centrality.keys()),\n",
        "                        \"Name\": [node_name[node] for node in weighted_eigenvector_centrality.keys()],\n",
        "                        \"WeightedEigenvectorCentrality\": list(weighted_eigenvector_centrality.values())\n",
        "                        }).sort_values(by=\"WeightedEigenvectorCentrality\", ascending=False).reset_index(drop=True)\n",
        "\n",
        "wec_data.head(10)"
      ],
      "metadata": {
        "id": "jDR6ZHaOBaui"
      },
      "execution_count": null,
      "outputs": []
    },
    {
      "cell_type": "markdown",
      "source": [
        "Since the Associated Entities network consists of many cliques, eigenvector centrality assigns equal centrality scores for nodes that belong to the same clique. This is because every node is reachable from every other node via direct paths of the same length and it reflects the equal importance of all nodes in facilitating connections within a clique. For example, we see every individual from “The Limited, Inc.” along with “Kenneth Gilman” on top of the table with an eigenvector centrality score of 0.377964 in the Associated Entities network.\n"
      ],
      "metadata": {
        "id": "HLrM9N-oWBTD"
      }
    },
    {
      "cell_type": "markdown",
      "source": [
        "### Closeness Centrality"
      ],
      "metadata": {
        "id": "ceXfbpLeBPwM"
      }
    },
    {
      "cell_type": "markdown",
      "source": [
        "Closeness centrality measures how close a node is to all other nodes in the network, quantifying its ability to efficiently communicate and disseminate information. It considers not only the number of connections but also the length of the shortest paths to reach other nodes in the network."
      ],
      "metadata": {
        "id": "b22zHbaNyG5f"
      }
    },
    {
      "cell_type": "code",
      "source": [
        "weighted_closeness_centrality = nx.closeness_centrality(G, distance=\"weight\")\n",
        "\n",
        "wcc_data = pd.DataFrame({\"Id\": list(weighted_closeness_centrality.keys()),\n",
        "                        \"Name\": [node_name[node] for node in weighted_closeness_centrality.keys()],\n",
        "                        \"WeightedClosenessCentrality\": list(weighted_closeness_centrality.values())\n",
        "                        }).sort_values(by=\"WeightedClosenessCentrality\", ascending=False).reset_index(drop=True)\n",
        "\n",
        "wcc_data.head(10)"
      ],
      "metadata": {
        "id": "KRgVH138BPA1",
        "colab": {
          "base_uri": "https://localhost:8080/",
          "height": 363
        },
        "outputId": "80e34960-7add-4bdc-d153-7eeb3d4cd66b"
      },
      "execution_count": null,
      "outputs": [
        {
          "output_type": "execute_result",
          "data": {
            "text/plain": [
              "    Id                     Name  WeightedClosenessCentrality\n",
              "0  211           Kenneth Gilman                      0.04878\n",
              "1   47               Bruce Soll                      0.04878\n",
              "2  188            Jerry Merritt                      0.04878\n",
              "3  186               Jerry Beck                      0.04878\n",
              "4  232               Les Wexner                      0.04878\n",
              "5  171  James S. (Jim) Forsbach                      0.04878\n",
              "6  342             Samuel Fried                      0.04878\n",
              "7  192              Jimmy Cayne                      0.03252\n",
              "8  166            Ira Zicherman                      0.03252\n",
              "9    1     Alan (Ace) Greenberg                      0.03252"
            ],
            "text/html": [
              "\n",
              "  <div id=\"df-de24fb81-f2b1-4436-8f42-ed00760a8c66\" class=\"colab-df-container\">\n",
              "    <div>\n",
              "<style scoped>\n",
              "    .dataframe tbody tr th:only-of-type {\n",
              "        vertical-align: middle;\n",
              "    }\n",
              "\n",
              "    .dataframe tbody tr th {\n",
              "        vertical-align: top;\n",
              "    }\n",
              "\n",
              "    .dataframe thead th {\n",
              "        text-align: right;\n",
              "    }\n",
              "</style>\n",
              "<table border=\"1\" class=\"dataframe\">\n",
              "  <thead>\n",
              "    <tr style=\"text-align: right;\">\n",
              "      <th></th>\n",
              "      <th>Id</th>\n",
              "      <th>Name</th>\n",
              "      <th>WeightedClosenessCentrality</th>\n",
              "    </tr>\n",
              "  </thead>\n",
              "  <tbody>\n",
              "    <tr>\n",
              "      <th>0</th>\n",
              "      <td>211</td>\n",
              "      <td>Kenneth Gilman</td>\n",
              "      <td>0.04878</td>\n",
              "    </tr>\n",
              "    <tr>\n",
              "      <th>1</th>\n",
              "      <td>47</td>\n",
              "      <td>Bruce Soll</td>\n",
              "      <td>0.04878</td>\n",
              "    </tr>\n",
              "    <tr>\n",
              "      <th>2</th>\n",
              "      <td>188</td>\n",
              "      <td>Jerry Merritt</td>\n",
              "      <td>0.04878</td>\n",
              "    </tr>\n",
              "    <tr>\n",
              "      <th>3</th>\n",
              "      <td>186</td>\n",
              "      <td>Jerry Beck</td>\n",
              "      <td>0.04878</td>\n",
              "    </tr>\n",
              "    <tr>\n",
              "      <th>4</th>\n",
              "      <td>232</td>\n",
              "      <td>Les Wexner</td>\n",
              "      <td>0.04878</td>\n",
              "    </tr>\n",
              "    <tr>\n",
              "      <th>5</th>\n",
              "      <td>171</td>\n",
              "      <td>James S. (Jim) Forsbach</td>\n",
              "      <td>0.04878</td>\n",
              "    </tr>\n",
              "    <tr>\n",
              "      <th>6</th>\n",
              "      <td>342</td>\n",
              "      <td>Samuel Fried</td>\n",
              "      <td>0.04878</td>\n",
              "    </tr>\n",
              "    <tr>\n",
              "      <th>7</th>\n",
              "      <td>192</td>\n",
              "      <td>Jimmy Cayne</td>\n",
              "      <td>0.03252</td>\n",
              "    </tr>\n",
              "    <tr>\n",
              "      <th>8</th>\n",
              "      <td>166</td>\n",
              "      <td>Ira Zicherman</td>\n",
              "      <td>0.03252</td>\n",
              "    </tr>\n",
              "    <tr>\n",
              "      <th>9</th>\n",
              "      <td>1</td>\n",
              "      <td>Alan (Ace) Greenberg</td>\n",
              "      <td>0.03252</td>\n",
              "    </tr>\n",
              "  </tbody>\n",
              "</table>\n",
              "</div>\n",
              "    <div class=\"colab-df-buttons\">\n",
              "\n",
              "  <div class=\"colab-df-container\">\n",
              "    <button class=\"colab-df-convert\" onclick=\"convertToInteractive('df-de24fb81-f2b1-4436-8f42-ed00760a8c66')\"\n",
              "            title=\"Convert this dataframe to an interactive table.\"\n",
              "            style=\"display:none;\">\n",
              "\n",
              "  <svg xmlns=\"http://www.w3.org/2000/svg\" height=\"24px\" viewBox=\"0 -960 960 960\">\n",
              "    <path d=\"M120-120v-720h720v720H120Zm60-500h600v-160H180v160Zm220 220h160v-160H400v160Zm0 220h160v-160H400v160ZM180-400h160v-160H180v160Zm440 0h160v-160H620v160ZM180-180h160v-160H180v160Zm440 0h160v-160H620v160Z\"/>\n",
              "  </svg>\n",
              "    </button>\n",
              "\n",
              "  <style>\n",
              "    .colab-df-container {\n",
              "      display:flex;\n",
              "      gap: 12px;\n",
              "    }\n",
              "\n",
              "    .colab-df-convert {\n",
              "      background-color: #E8F0FE;\n",
              "      border: none;\n",
              "      border-radius: 50%;\n",
              "      cursor: pointer;\n",
              "      display: none;\n",
              "      fill: #1967D2;\n",
              "      height: 32px;\n",
              "      padding: 0 0 0 0;\n",
              "      width: 32px;\n",
              "    }\n",
              "\n",
              "    .colab-df-convert:hover {\n",
              "      background-color: #E2EBFA;\n",
              "      box-shadow: 0px 1px 2px rgba(60, 64, 67, 0.3), 0px 1px 3px 1px rgba(60, 64, 67, 0.15);\n",
              "      fill: #174EA6;\n",
              "    }\n",
              "\n",
              "    .colab-df-buttons div {\n",
              "      margin-bottom: 4px;\n",
              "    }\n",
              "\n",
              "    [theme=dark] .colab-df-convert {\n",
              "      background-color: #3B4455;\n",
              "      fill: #D2E3FC;\n",
              "    }\n",
              "\n",
              "    [theme=dark] .colab-df-convert:hover {\n",
              "      background-color: #434B5C;\n",
              "      box-shadow: 0px 1px 3px 1px rgba(0, 0, 0, 0.15);\n",
              "      filter: drop-shadow(0px 1px 2px rgba(0, 0, 0, 0.3));\n",
              "      fill: #FFFFFF;\n",
              "    }\n",
              "  </style>\n",
              "\n",
              "    <script>\n",
              "      const buttonEl =\n",
              "        document.querySelector('#df-de24fb81-f2b1-4436-8f42-ed00760a8c66 button.colab-df-convert');\n",
              "      buttonEl.style.display =\n",
              "        google.colab.kernel.accessAllowed ? 'block' : 'none';\n",
              "\n",
              "      async function convertToInteractive(key) {\n",
              "        const element = document.querySelector('#df-de24fb81-f2b1-4436-8f42-ed00760a8c66');\n",
              "        const dataTable =\n",
              "          await google.colab.kernel.invokeFunction('convertToInteractive',\n",
              "                                                    [key], {});\n",
              "        if (!dataTable) return;\n",
              "\n",
              "        const docLinkHtml = 'Like what you see? Visit the ' +\n",
              "          '<a target=\"_blank\" href=https://colab.research.google.com/notebooks/data_table.ipynb>data table notebook</a>'\n",
              "          + ' to learn more about interactive tables.';\n",
              "        element.innerHTML = '';\n",
              "        dataTable['output_type'] = 'display_data';\n",
              "        await google.colab.output.renderOutput(dataTable, element);\n",
              "        const docLink = document.createElement('div');\n",
              "        docLink.innerHTML = docLinkHtml;\n",
              "        element.appendChild(docLink);\n",
              "      }\n",
              "    </script>\n",
              "  </div>\n",
              "\n",
              "\n",
              "<div id=\"df-9effc642-9a0f-4882-99bd-56c2c866edde\">\n",
              "  <button class=\"colab-df-quickchart\" onclick=\"quickchart('df-9effc642-9a0f-4882-99bd-56c2c866edde')\"\n",
              "            title=\"Suggest charts\"\n",
              "            style=\"display:none;\">\n",
              "\n",
              "<svg xmlns=\"http://www.w3.org/2000/svg\" height=\"24px\"viewBox=\"0 0 24 24\"\n",
              "     width=\"24px\">\n",
              "    <g>\n",
              "        <path d=\"M19 3H5c-1.1 0-2 .9-2 2v14c0 1.1.9 2 2 2h14c1.1 0 2-.9 2-2V5c0-1.1-.9-2-2-2zM9 17H7v-7h2v7zm4 0h-2V7h2v10zm4 0h-2v-4h2v4z\"/>\n",
              "    </g>\n",
              "</svg>\n",
              "  </button>\n",
              "\n",
              "<style>\n",
              "  .colab-df-quickchart {\n",
              "      --bg-color: #E8F0FE;\n",
              "      --fill-color: #1967D2;\n",
              "      --hover-bg-color: #E2EBFA;\n",
              "      --hover-fill-color: #174EA6;\n",
              "      --disabled-fill-color: #AAA;\n",
              "      --disabled-bg-color: #DDD;\n",
              "  }\n",
              "\n",
              "  [theme=dark] .colab-df-quickchart {\n",
              "      --bg-color: #3B4455;\n",
              "      --fill-color: #D2E3FC;\n",
              "      --hover-bg-color: #434B5C;\n",
              "      --hover-fill-color: #FFFFFF;\n",
              "      --disabled-bg-color: #3B4455;\n",
              "      --disabled-fill-color: #666;\n",
              "  }\n",
              "\n",
              "  .colab-df-quickchart {\n",
              "    background-color: var(--bg-color);\n",
              "    border: none;\n",
              "    border-radius: 50%;\n",
              "    cursor: pointer;\n",
              "    display: none;\n",
              "    fill: var(--fill-color);\n",
              "    height: 32px;\n",
              "    padding: 0;\n",
              "    width: 32px;\n",
              "  }\n",
              "\n",
              "  .colab-df-quickchart:hover {\n",
              "    background-color: var(--hover-bg-color);\n",
              "    box-shadow: 0 1px 2px rgba(60, 64, 67, 0.3), 0 1px 3px 1px rgba(60, 64, 67, 0.15);\n",
              "    fill: var(--button-hover-fill-color);\n",
              "  }\n",
              "\n",
              "  .colab-df-quickchart-complete:disabled,\n",
              "  .colab-df-quickchart-complete:disabled:hover {\n",
              "    background-color: var(--disabled-bg-color);\n",
              "    fill: var(--disabled-fill-color);\n",
              "    box-shadow: none;\n",
              "  }\n",
              "\n",
              "  .colab-df-spinner {\n",
              "    border: 2px solid var(--fill-color);\n",
              "    border-color: transparent;\n",
              "    border-bottom-color: var(--fill-color);\n",
              "    animation:\n",
              "      spin 1s steps(1) infinite;\n",
              "  }\n",
              "\n",
              "  @keyframes spin {\n",
              "    0% {\n",
              "      border-color: transparent;\n",
              "      border-bottom-color: var(--fill-color);\n",
              "      border-left-color: var(--fill-color);\n",
              "    }\n",
              "    20% {\n",
              "      border-color: transparent;\n",
              "      border-left-color: var(--fill-color);\n",
              "      border-top-color: var(--fill-color);\n",
              "    }\n",
              "    30% {\n",
              "      border-color: transparent;\n",
              "      border-left-color: var(--fill-color);\n",
              "      border-top-color: var(--fill-color);\n",
              "      border-right-color: var(--fill-color);\n",
              "    }\n",
              "    40% {\n",
              "      border-color: transparent;\n",
              "      border-right-color: var(--fill-color);\n",
              "      border-top-color: var(--fill-color);\n",
              "    }\n",
              "    60% {\n",
              "      border-color: transparent;\n",
              "      border-right-color: var(--fill-color);\n",
              "    }\n",
              "    80% {\n",
              "      border-color: transparent;\n",
              "      border-right-color: var(--fill-color);\n",
              "      border-bottom-color: var(--fill-color);\n",
              "    }\n",
              "    90% {\n",
              "      border-color: transparent;\n",
              "      border-bottom-color: var(--fill-color);\n",
              "    }\n",
              "  }\n",
              "</style>\n",
              "\n",
              "  <script>\n",
              "    async function quickchart(key) {\n",
              "      const quickchartButtonEl =\n",
              "        document.querySelector('#' + key + ' button');\n",
              "      quickchartButtonEl.disabled = true;  // To prevent multiple clicks.\n",
              "      quickchartButtonEl.classList.add('colab-df-spinner');\n",
              "      try {\n",
              "        const charts = await google.colab.kernel.invokeFunction(\n",
              "            'suggestCharts', [key], {});\n",
              "      } catch (error) {\n",
              "        console.error('Error during call to suggestCharts:', error);\n",
              "      }\n",
              "      quickchartButtonEl.classList.remove('colab-df-spinner');\n",
              "      quickchartButtonEl.classList.add('colab-df-quickchart-complete');\n",
              "    }\n",
              "    (() => {\n",
              "      let quickchartButtonEl =\n",
              "        document.querySelector('#df-9effc642-9a0f-4882-99bd-56c2c866edde button');\n",
              "      quickchartButtonEl.style.display =\n",
              "        google.colab.kernel.accessAllowed ? 'block' : 'none';\n",
              "    })();\n",
              "  </script>\n",
              "</div>\n",
              "    </div>\n",
              "  </div>\n"
            ],
            "application/vnd.google.colaboratory.intrinsic+json": {
              "type": "dataframe",
              "variable_name": "wcc_data",
              "summary": "{\n  \"name\": \"wcc_data\",\n  \"rows\": 124,\n  \"fields\": [\n    {\n      \"column\": \"Id\",\n      \"properties\": {\n        \"dtype\": \"string\",\n        \"num_unique_values\": 124,\n        \"samples\": [\n          \"387\",\n          \"368\",\n          \"395\"\n        ],\n        \"semantic_type\": \"\",\n        \"description\": \"\"\n      }\n    },\n    {\n      \"column\": \"Name\",\n      \"properties\": {\n        \"dtype\": \"string\",\n        \"num_unique_values\": 122,\n        \"samples\": [\n          \"Vera Wang\",\n          \"Sophie Van Van Hauen\",\n          \"Tim Martin\"\n        ],\n        \"semantic_type\": \"\",\n        \"description\": \"\"\n      }\n    },\n    {\n      \"column\": \"WeightedClosenessCentrality\",\n      \"properties\": {\n        \"dtype\": \"number\",\n        \"std\": 0.01038547798147245,\n        \"min\": 0.008130081300813009,\n        \"max\": 0.04878048780487805,\n        \"num_unique_values\": 4,\n        \"samples\": [\n          0.032520325203252036,\n          0.008130081300813009,\n          0.04878048780487805\n        ],\n        \"semantic_type\": \"\",\n        \"description\": \"\"\n      }\n    }\n  ]\n}"
            }
          },
          "metadata": {},
          "execution_count": 10
        }
      ]
    },
    {
      "cell_type": "markdown",
      "source": [
        "In the context of the Associated Entities networks, where cliques are prevalent, closeness centrality also yields equal scores for nodes within the same clique, as the eigenvector centrality. Therefore, individuals within a clique demonstrate identical closeness centrality scores, reflecting their equivalent importance in facilitating efficient communication and information flow within the group.\n"
      ],
      "metadata": {
        "id": "oTwTjnj3VttI"
      }
    },
    {
      "cell_type": "markdown",
      "source": [
        "### Betweenness Centrality"
      ],
      "metadata": {
        "id": "7FJN0s785qAE"
      }
    },
    {
      "cell_type": "markdown",
      "source": [
        "Betweenness centrality is a key measure that assesses the extent to which a node serves as a bridge or intermediary between other nodes in the network. Nodes with high betweenness centrality play a critical role in maintaining connectivity and facilitating communication within the network.\n",
        "\n",
        "This measure investigates the extent to which a\n",
        "node lies on paths between other nodes. Since this network is perfectly transitive, the betweenness centrality is 0."
      ],
      "metadata": {
        "id": "mix0a9XPyLfu"
      }
    },
    {
      "cell_type": "code",
      "source": [
        "weighted_betweenness_centrality = nx.betweenness_centrality(G, weight=\"weight\")\n",
        "\n",
        "wbc_data = pd.DataFrame({\"Id\": list(weighted_betweenness_centrality.keys()),\n",
        "                        \"Name\": [node_name[node] for node in weighted_betweenness_centrality.keys()],\n",
        "                        \"WeightedBetweennessCentrality\": list(weighted_betweenness_centrality.values())\n",
        "                        }).sort_values(by=\"WeightedBetweennessCentrality\", ascending=False).reset_index(drop=True)\n",
        "\n",
        "wbc_data.head(10)"
      ],
      "metadata": {
        "id": "zLRK1Wc-5fM-"
      },
      "execution_count": null,
      "outputs": []
    },
    {
      "cell_type": "markdown",
      "source": [
        "In our Cities and Associated Entities networks which consist of disconnected subgraphs, every node is directly connected to every other node within every subgraph, leaving no room for intermediary positions along paths. Since betweenness centrality\n",
        "\n",
        "measures a node's role as an intermediary on shortest paths, it becomes irrelevant in such networks, resulting in a value of 0 for all nodes. Hence it is not applicable."
      ],
      "metadata": {
        "id": "hStLOgVYWOlB"
      }
    },
    {
      "cell_type": "markdown",
      "source": [
        "## **Groups of Nodes Analysis**"
      ],
      "metadata": {
        "id": "rAQfwyeWT77Y"
      }
    },
    {
      "cell_type": "markdown",
      "metadata": {
        "id": "OhFBW9Du8gUw"
      },
      "source": [
        "### K-core\n"
      ]
    },
    {
      "cell_type": "markdown",
      "source": [
        "\n",
        "K-core decomposition is a method used to identify core nodes within a network based on their connectivity. Nodes that lie within the highest-k cores are considered \"core\" nodes, while those outside these cores are \"peripheral\" to the network."
      ],
      "metadata": {
        "id": "P6_GXuNAx1Bq"
      }
    },
    {
      "cell_type": "code",
      "execution_count": null,
      "metadata": {
        "colab": {
          "base_uri": "https://localhost:8080/",
          "height": 687
        },
        "id": "LhQa4MKf8f24",
        "outputId": "f69e9785-9ef8-48aa-ab59-2d7290c4a506"
      },
      "outputs": [
        {
          "output_type": "execute_result",
          "data": {
            "text/plain": [
              "      Id               Name  KCore\n",
              "0    211     Kenneth Gilman      6\n",
              "1     47         Bruce Soll      6\n",
              "2    188      Jerry Merritt      6\n",
              "3    186         Jerry Beck      6\n",
              "4    232         Les Wexner      6\n",
              "..   ...                ...    ...\n",
              "119  106         Early Mack      1\n",
              "120  104  Dr. Henry Jarecki      1\n",
              "121   98      Donald Marron      1\n",
              "122   91     Debbie Stewart      1\n",
              "123  396    William Jeffers      1\n",
              "\n",
              "[124 rows x 3 columns]"
            ],
            "text/html": [
              "\n",
              "  <div id=\"df-3969cbac-589a-415c-b6e8-5dc5d7a8c622\" class=\"colab-df-container\">\n",
              "    <div>\n",
              "<style scoped>\n",
              "    .dataframe tbody tr th:only-of-type {\n",
              "        vertical-align: middle;\n",
              "    }\n",
              "\n",
              "    .dataframe tbody tr th {\n",
              "        vertical-align: top;\n",
              "    }\n",
              "\n",
              "    .dataframe thead th {\n",
              "        text-align: right;\n",
              "    }\n",
              "</style>\n",
              "<table border=\"1\" class=\"dataframe\">\n",
              "  <thead>\n",
              "    <tr style=\"text-align: right;\">\n",
              "      <th></th>\n",
              "      <th>Id</th>\n",
              "      <th>Name</th>\n",
              "      <th>KCore</th>\n",
              "    </tr>\n",
              "  </thead>\n",
              "  <tbody>\n",
              "    <tr>\n",
              "      <th>0</th>\n",
              "      <td>211</td>\n",
              "      <td>Kenneth Gilman</td>\n",
              "      <td>6</td>\n",
              "    </tr>\n",
              "    <tr>\n",
              "      <th>1</th>\n",
              "      <td>47</td>\n",
              "      <td>Bruce Soll</td>\n",
              "      <td>6</td>\n",
              "    </tr>\n",
              "    <tr>\n",
              "      <th>2</th>\n",
              "      <td>188</td>\n",
              "      <td>Jerry Merritt</td>\n",
              "      <td>6</td>\n",
              "    </tr>\n",
              "    <tr>\n",
              "      <th>3</th>\n",
              "      <td>186</td>\n",
              "      <td>Jerry Beck</td>\n",
              "      <td>6</td>\n",
              "    </tr>\n",
              "    <tr>\n",
              "      <th>4</th>\n",
              "      <td>232</td>\n",
              "      <td>Les Wexner</td>\n",
              "      <td>6</td>\n",
              "    </tr>\n",
              "    <tr>\n",
              "      <th>...</th>\n",
              "      <td>...</td>\n",
              "      <td>...</td>\n",
              "      <td>...</td>\n",
              "    </tr>\n",
              "    <tr>\n",
              "      <th>119</th>\n",
              "      <td>106</td>\n",
              "      <td>Early Mack</td>\n",
              "      <td>1</td>\n",
              "    </tr>\n",
              "    <tr>\n",
              "      <th>120</th>\n",
              "      <td>104</td>\n",
              "      <td>Dr. Henry Jarecki</td>\n",
              "      <td>1</td>\n",
              "    </tr>\n",
              "    <tr>\n",
              "      <th>121</th>\n",
              "      <td>98</td>\n",
              "      <td>Donald Marron</td>\n",
              "      <td>1</td>\n",
              "    </tr>\n",
              "    <tr>\n",
              "      <th>122</th>\n",
              "      <td>91</td>\n",
              "      <td>Debbie Stewart</td>\n",
              "      <td>1</td>\n",
              "    </tr>\n",
              "    <tr>\n",
              "      <th>123</th>\n",
              "      <td>396</td>\n",
              "      <td>William Jeffers</td>\n",
              "      <td>1</td>\n",
              "    </tr>\n",
              "  </tbody>\n",
              "</table>\n",
              "<p>124 rows × 3 columns</p>\n",
              "</div>\n",
              "    <div class=\"colab-df-buttons\">\n",
              "\n",
              "  <div class=\"colab-df-container\">\n",
              "    <button class=\"colab-df-convert\" onclick=\"convertToInteractive('df-3969cbac-589a-415c-b6e8-5dc5d7a8c622')\"\n",
              "            title=\"Convert this dataframe to an interactive table.\"\n",
              "            style=\"display:none;\">\n",
              "\n",
              "  <svg xmlns=\"http://www.w3.org/2000/svg\" height=\"24px\" viewBox=\"0 -960 960 960\">\n",
              "    <path d=\"M120-120v-720h720v720H120Zm60-500h600v-160H180v160Zm220 220h160v-160H400v160Zm0 220h160v-160H400v160ZM180-400h160v-160H180v160Zm440 0h160v-160H620v160ZM180-180h160v-160H180v160Zm440 0h160v-160H620v160Z\"/>\n",
              "  </svg>\n",
              "    </button>\n",
              "\n",
              "  <style>\n",
              "    .colab-df-container {\n",
              "      display:flex;\n",
              "      gap: 12px;\n",
              "    }\n",
              "\n",
              "    .colab-df-convert {\n",
              "      background-color: #E8F0FE;\n",
              "      border: none;\n",
              "      border-radius: 50%;\n",
              "      cursor: pointer;\n",
              "      display: none;\n",
              "      fill: #1967D2;\n",
              "      height: 32px;\n",
              "      padding: 0 0 0 0;\n",
              "      width: 32px;\n",
              "    }\n",
              "\n",
              "    .colab-df-convert:hover {\n",
              "      background-color: #E2EBFA;\n",
              "      box-shadow: 0px 1px 2px rgba(60, 64, 67, 0.3), 0px 1px 3px 1px rgba(60, 64, 67, 0.15);\n",
              "      fill: #174EA6;\n",
              "    }\n",
              "\n",
              "    .colab-df-buttons div {\n",
              "      margin-bottom: 4px;\n",
              "    }\n",
              "\n",
              "    [theme=dark] .colab-df-convert {\n",
              "      background-color: #3B4455;\n",
              "      fill: #D2E3FC;\n",
              "    }\n",
              "\n",
              "    [theme=dark] .colab-df-convert:hover {\n",
              "      background-color: #434B5C;\n",
              "      box-shadow: 0px 1px 3px 1px rgba(0, 0, 0, 0.15);\n",
              "      filter: drop-shadow(0px 1px 2px rgba(0, 0, 0, 0.3));\n",
              "      fill: #FFFFFF;\n",
              "    }\n",
              "  </style>\n",
              "\n",
              "    <script>\n",
              "      const buttonEl =\n",
              "        document.querySelector('#df-3969cbac-589a-415c-b6e8-5dc5d7a8c622 button.colab-df-convert');\n",
              "      buttonEl.style.display =\n",
              "        google.colab.kernel.accessAllowed ? 'block' : 'none';\n",
              "\n",
              "      async function convertToInteractive(key) {\n",
              "        const element = document.querySelector('#df-3969cbac-589a-415c-b6e8-5dc5d7a8c622');\n",
              "        const dataTable =\n",
              "          await google.colab.kernel.invokeFunction('convertToInteractive',\n",
              "                                                    [key], {});\n",
              "        if (!dataTable) return;\n",
              "\n",
              "        const docLinkHtml = 'Like what you see? Visit the ' +\n",
              "          '<a target=\"_blank\" href=https://colab.research.google.com/notebooks/data_table.ipynb>data table notebook</a>'\n",
              "          + ' to learn more about interactive tables.';\n",
              "        element.innerHTML = '';\n",
              "        dataTable['output_type'] = 'display_data';\n",
              "        await google.colab.output.renderOutput(dataTable, element);\n",
              "        const docLink = document.createElement('div');\n",
              "        docLink.innerHTML = docLinkHtml;\n",
              "        element.appendChild(docLink);\n",
              "      }\n",
              "    </script>\n",
              "  </div>\n",
              "\n",
              "\n",
              "<div id=\"df-e153354a-1590-4535-8132-79fb1c60addc\">\n",
              "  <button class=\"colab-df-quickchart\" onclick=\"quickchart('df-e153354a-1590-4535-8132-79fb1c60addc')\"\n",
              "            title=\"Suggest charts\"\n",
              "            style=\"display:none;\">\n",
              "\n",
              "<svg xmlns=\"http://www.w3.org/2000/svg\" height=\"24px\"viewBox=\"0 0 24 24\"\n",
              "     width=\"24px\">\n",
              "    <g>\n",
              "        <path d=\"M19 3H5c-1.1 0-2 .9-2 2v14c0 1.1.9 2 2 2h14c1.1 0 2-.9 2-2V5c0-1.1-.9-2-2-2zM9 17H7v-7h2v7zm4 0h-2V7h2v10zm4 0h-2v-4h2v4z\"/>\n",
              "    </g>\n",
              "</svg>\n",
              "  </button>\n",
              "\n",
              "<style>\n",
              "  .colab-df-quickchart {\n",
              "      --bg-color: #E8F0FE;\n",
              "      --fill-color: #1967D2;\n",
              "      --hover-bg-color: #E2EBFA;\n",
              "      --hover-fill-color: #174EA6;\n",
              "      --disabled-fill-color: #AAA;\n",
              "      --disabled-bg-color: #DDD;\n",
              "  }\n",
              "\n",
              "  [theme=dark] .colab-df-quickchart {\n",
              "      --bg-color: #3B4455;\n",
              "      --fill-color: #D2E3FC;\n",
              "      --hover-bg-color: #434B5C;\n",
              "      --hover-fill-color: #FFFFFF;\n",
              "      --disabled-bg-color: #3B4455;\n",
              "      --disabled-fill-color: #666;\n",
              "  }\n",
              "\n",
              "  .colab-df-quickchart {\n",
              "    background-color: var(--bg-color);\n",
              "    border: none;\n",
              "    border-radius: 50%;\n",
              "    cursor: pointer;\n",
              "    display: none;\n",
              "    fill: var(--fill-color);\n",
              "    height: 32px;\n",
              "    padding: 0;\n",
              "    width: 32px;\n",
              "  }\n",
              "\n",
              "  .colab-df-quickchart:hover {\n",
              "    background-color: var(--hover-bg-color);\n",
              "    box-shadow: 0 1px 2px rgba(60, 64, 67, 0.3), 0 1px 3px 1px rgba(60, 64, 67, 0.15);\n",
              "    fill: var(--button-hover-fill-color);\n",
              "  }\n",
              "\n",
              "  .colab-df-quickchart-complete:disabled,\n",
              "  .colab-df-quickchart-complete:disabled:hover {\n",
              "    background-color: var(--disabled-bg-color);\n",
              "    fill: var(--disabled-fill-color);\n",
              "    box-shadow: none;\n",
              "  }\n",
              "\n",
              "  .colab-df-spinner {\n",
              "    border: 2px solid var(--fill-color);\n",
              "    border-color: transparent;\n",
              "    border-bottom-color: var(--fill-color);\n",
              "    animation:\n",
              "      spin 1s steps(1) infinite;\n",
              "  }\n",
              "\n",
              "  @keyframes spin {\n",
              "    0% {\n",
              "      border-color: transparent;\n",
              "      border-bottom-color: var(--fill-color);\n",
              "      border-left-color: var(--fill-color);\n",
              "    }\n",
              "    20% {\n",
              "      border-color: transparent;\n",
              "      border-left-color: var(--fill-color);\n",
              "      border-top-color: var(--fill-color);\n",
              "    }\n",
              "    30% {\n",
              "      border-color: transparent;\n",
              "      border-left-color: var(--fill-color);\n",
              "      border-top-color: var(--fill-color);\n",
              "      border-right-color: var(--fill-color);\n",
              "    }\n",
              "    40% {\n",
              "      border-color: transparent;\n",
              "      border-right-color: var(--fill-color);\n",
              "      border-top-color: var(--fill-color);\n",
              "    }\n",
              "    60% {\n",
              "      border-color: transparent;\n",
              "      border-right-color: var(--fill-color);\n",
              "    }\n",
              "    80% {\n",
              "      border-color: transparent;\n",
              "      border-right-color: var(--fill-color);\n",
              "      border-bottom-color: var(--fill-color);\n",
              "    }\n",
              "    90% {\n",
              "      border-color: transparent;\n",
              "      border-bottom-color: var(--fill-color);\n",
              "    }\n",
              "  }\n",
              "</style>\n",
              "\n",
              "  <script>\n",
              "    async function quickchart(key) {\n",
              "      const quickchartButtonEl =\n",
              "        document.querySelector('#' + key + ' button');\n",
              "      quickchartButtonEl.disabled = true;  // To prevent multiple clicks.\n",
              "      quickchartButtonEl.classList.add('colab-df-spinner');\n",
              "      try {\n",
              "        const charts = await google.colab.kernel.invokeFunction(\n",
              "            'suggestCharts', [key], {});\n",
              "      } catch (error) {\n",
              "        console.error('Error during call to suggestCharts:', error);\n",
              "      }\n",
              "      quickchartButtonEl.classList.remove('colab-df-spinner');\n",
              "      quickchartButtonEl.classList.add('colab-df-quickchart-complete');\n",
              "    }\n",
              "    (() => {\n",
              "      let quickchartButtonEl =\n",
              "        document.querySelector('#df-e153354a-1590-4535-8132-79fb1c60addc button');\n",
              "      quickchartButtonEl.style.display =\n",
              "        google.colab.kernel.accessAllowed ? 'block' : 'none';\n",
              "    })();\n",
              "  </script>\n",
              "</div>\n",
              "    </div>\n",
              "  </div>\n"
            ],
            "application/vnd.google.colaboratory.intrinsic+json": {
              "type": "dataframe",
              "variable_name": "k_data",
              "summary": "{\n  \"name\": \"k_data\",\n  \"rows\": 124,\n  \"fields\": [\n    {\n      \"column\": \"Id\",\n      \"properties\": {\n        \"dtype\": \"string\",\n        \"num_unique_values\": 124,\n        \"samples\": [\n          \"387\",\n          \"368\",\n          \"395\"\n        ],\n        \"semantic_type\": \"\",\n        \"description\": \"\"\n      }\n    },\n    {\n      \"column\": \"Name\",\n      \"properties\": {\n        \"dtype\": \"string\",\n        \"num_unique_values\": 122,\n        \"samples\": [\n          \"Vera Wang\",\n          \"Sophie Van Van Hauen\",\n          \"Tim Martin\"\n        ],\n        \"semantic_type\": \"\",\n        \"description\": \"\"\n      }\n    },\n    {\n      \"column\": \"KCore\",\n      \"properties\": {\n        \"dtype\": \"number\",\n        \"std\": 1,\n        \"min\": 1,\n        \"max\": 6,\n        \"num_unique_values\": 4,\n        \"samples\": [\n          4,\n          1,\n          6\n        ],\n        \"semantic_type\": \"\",\n        \"description\": \"\"\n      }\n    }\n  ]\n}"
            }
          },
          "metadata": {},
          "execution_count": 15
        }
      ],
      "source": [
        "core_number = nx.core_number(G)\n",
        "k_data = pd.DataFrame({\"Id\": list(core_number.keys()),\n",
        "                     \"Name\": [node_name[node] for node in core_number.keys()],\n",
        "                     \"KCore\": list(core_number.values())\n",
        "                      }).sort_values(by=\"KCore\", ascending=False).reset_index(drop=True)\n",
        "\n",
        "k_data\n"
      ]
    },
    {
      "cell_type": "markdown",
      "source": [
        "For the Cities and Associated Entities Network, we see many individuals ending up having the same value, where every member of a clique forms k-cores, where k is equal to the size of the clique minus 1. This is because, in a clique of size n, each node has n-1 connections to other nodes within the clique."
      ],
      "metadata": {
        "id": "EFsxfHtKWYRH"
      }
    },
    {
      "cell_type": "markdown",
      "source": [
        "### Clustering\n",
        "\n",
        "\n",
        "\n",
        "\n"
      ],
      "metadata": {
        "id": "cCCzQJjOIJPs"
      }
    },
    {
      "cell_type": "markdown",
      "source": [
        "Clustering coefficients measure the tendency of nodes in a network to form clusters or groups, considering both the presence of triangles and the strengths of connections. In our analysis, we calculated the local clustering coefficient for individual nodes and the average clustering coefficient for the entire network. The clustering coefficient C:\n",
        "\n",
        "$\\hspace{6cm}$ $C(d)=\\frac{T_n(d)}{N_n(d) {d \\choose 2}} $ $\\hspace{3cm}$ (1)\n",
        "\n",
        "where T(d) is the number of triangles and N(d) is the number of vertices of degree d in G (i.e., the number of edges between the neighbors of the vertices of degree d)5. It's calculated by counting the number of triangles that a node is a part of and normalising it by the maximum possible number of triangles for that node."
      ],
      "metadata": {
        "id": "gt5JUNahxxfp"
      }
    },
    {
      "cell_type": "code",
      "source": [
        "clustering = nx.clustering(G, weight=\"weight\")\n",
        "\n",
        "clustering_data = pd.DataFrame({\"Id\": list(clustering.keys()),\n",
        "                        \"Name\": [node_name[node] for node in clustering.keys()],\n",
        "                        \"Clustering\": list(clustering.values())\n",
        "                        }).sort_values(by=\"Clustering\", ascending=False).reset_index(drop=True)\n",
        "\n",
        "clustering_data\n",
        "\n"
      ],
      "metadata": {
        "colab": {
          "base_uri": "https://localhost:8080/",
          "height": 424
        },
        "id": "fSj8h597_6jY",
        "outputId": "9843dade-7421-4ab2-f236-98342990614b"
      },
      "execution_count": null,
      "outputs": [
        {
          "output_type": "execute_result",
          "data": {
            "text/plain": [
              "      Id                  Name  Clustering\n",
              "0      1  Alan (Ace) Greenberg         1.0\n",
              "1     47            Bruce Soll         1.0\n",
              "2    192           Jimmy Cayne         1.0\n",
              "3    188         Jerry Merritt         1.0\n",
              "4    186            Jerry Beck         1.0\n",
              "..   ...                   ...         ...\n",
              "119  106            Early Mack         0.0\n",
              "120  104     Dr. Henry Jarecki         0.0\n",
              "121   98         Donald Marron         0.0\n",
              "122   91        Debbie Stewart         0.0\n",
              "123  396       William Jeffers         0.0\n",
              "\n",
              "[124 rows x 3 columns]"
            ],
            "text/html": [
              "\n",
              "  <div id=\"df-29e258a7-e292-4bea-b6ae-643ee07a32a9\" class=\"colab-df-container\">\n",
              "    <div>\n",
              "<style scoped>\n",
              "    .dataframe tbody tr th:only-of-type {\n",
              "        vertical-align: middle;\n",
              "    }\n",
              "\n",
              "    .dataframe tbody tr th {\n",
              "        vertical-align: top;\n",
              "    }\n",
              "\n",
              "    .dataframe thead th {\n",
              "        text-align: right;\n",
              "    }\n",
              "</style>\n",
              "<table border=\"1\" class=\"dataframe\">\n",
              "  <thead>\n",
              "    <tr style=\"text-align: right;\">\n",
              "      <th></th>\n",
              "      <th>Id</th>\n",
              "      <th>Name</th>\n",
              "      <th>Clustering</th>\n",
              "    </tr>\n",
              "  </thead>\n",
              "  <tbody>\n",
              "    <tr>\n",
              "      <th>0</th>\n",
              "      <td>1</td>\n",
              "      <td>Alan (Ace) Greenberg</td>\n",
              "      <td>1.0</td>\n",
              "    </tr>\n",
              "    <tr>\n",
              "      <th>1</th>\n",
              "      <td>47</td>\n",
              "      <td>Bruce Soll</td>\n",
              "      <td>1.0</td>\n",
              "    </tr>\n",
              "    <tr>\n",
              "      <th>2</th>\n",
              "      <td>192</td>\n",
              "      <td>Jimmy Cayne</td>\n",
              "      <td>1.0</td>\n",
              "    </tr>\n",
              "    <tr>\n",
              "      <th>3</th>\n",
              "      <td>188</td>\n",
              "      <td>Jerry Merritt</td>\n",
              "      <td>1.0</td>\n",
              "    </tr>\n",
              "    <tr>\n",
              "      <th>4</th>\n",
              "      <td>186</td>\n",
              "      <td>Jerry Beck</td>\n",
              "      <td>1.0</td>\n",
              "    </tr>\n",
              "    <tr>\n",
              "      <th>...</th>\n",
              "      <td>...</td>\n",
              "      <td>...</td>\n",
              "      <td>...</td>\n",
              "    </tr>\n",
              "    <tr>\n",
              "      <th>119</th>\n",
              "      <td>106</td>\n",
              "      <td>Early Mack</td>\n",
              "      <td>0.0</td>\n",
              "    </tr>\n",
              "    <tr>\n",
              "      <th>120</th>\n",
              "      <td>104</td>\n",
              "      <td>Dr. Henry Jarecki</td>\n",
              "      <td>0.0</td>\n",
              "    </tr>\n",
              "    <tr>\n",
              "      <th>121</th>\n",
              "      <td>98</td>\n",
              "      <td>Donald Marron</td>\n",
              "      <td>0.0</td>\n",
              "    </tr>\n",
              "    <tr>\n",
              "      <th>122</th>\n",
              "      <td>91</td>\n",
              "      <td>Debbie Stewart</td>\n",
              "      <td>0.0</td>\n",
              "    </tr>\n",
              "    <tr>\n",
              "      <th>123</th>\n",
              "      <td>396</td>\n",
              "      <td>William Jeffers</td>\n",
              "      <td>0.0</td>\n",
              "    </tr>\n",
              "  </tbody>\n",
              "</table>\n",
              "<p>124 rows × 3 columns</p>\n",
              "</div>\n",
              "    <div class=\"colab-df-buttons\">\n",
              "\n",
              "  <div class=\"colab-df-container\">\n",
              "    <button class=\"colab-df-convert\" onclick=\"convertToInteractive('df-29e258a7-e292-4bea-b6ae-643ee07a32a9')\"\n",
              "            title=\"Convert this dataframe to an interactive table.\"\n",
              "            style=\"display:none;\">\n",
              "\n",
              "  <svg xmlns=\"http://www.w3.org/2000/svg\" height=\"24px\" viewBox=\"0 -960 960 960\">\n",
              "    <path d=\"M120-120v-720h720v720H120Zm60-500h600v-160H180v160Zm220 220h160v-160H400v160Zm0 220h160v-160H400v160ZM180-400h160v-160H180v160Zm440 0h160v-160H620v160ZM180-180h160v-160H180v160Zm440 0h160v-160H620v160Z\"/>\n",
              "  </svg>\n",
              "    </button>\n",
              "\n",
              "  <style>\n",
              "    .colab-df-container {\n",
              "      display:flex;\n",
              "      gap: 12px;\n",
              "    }\n",
              "\n",
              "    .colab-df-convert {\n",
              "      background-color: #E8F0FE;\n",
              "      border: none;\n",
              "      border-radius: 50%;\n",
              "      cursor: pointer;\n",
              "      display: none;\n",
              "      fill: #1967D2;\n",
              "      height: 32px;\n",
              "      padding: 0 0 0 0;\n",
              "      width: 32px;\n",
              "    }\n",
              "\n",
              "    .colab-df-convert:hover {\n",
              "      background-color: #E2EBFA;\n",
              "      box-shadow: 0px 1px 2px rgba(60, 64, 67, 0.3), 0px 1px 3px 1px rgba(60, 64, 67, 0.15);\n",
              "      fill: #174EA6;\n",
              "    }\n",
              "\n",
              "    .colab-df-buttons div {\n",
              "      margin-bottom: 4px;\n",
              "    }\n",
              "\n",
              "    [theme=dark] .colab-df-convert {\n",
              "      background-color: #3B4455;\n",
              "      fill: #D2E3FC;\n",
              "    }\n",
              "\n",
              "    [theme=dark] .colab-df-convert:hover {\n",
              "      background-color: #434B5C;\n",
              "      box-shadow: 0px 1px 3px 1px rgba(0, 0, 0, 0.15);\n",
              "      filter: drop-shadow(0px 1px 2px rgba(0, 0, 0, 0.3));\n",
              "      fill: #FFFFFF;\n",
              "    }\n",
              "  </style>\n",
              "\n",
              "    <script>\n",
              "      const buttonEl =\n",
              "        document.querySelector('#df-29e258a7-e292-4bea-b6ae-643ee07a32a9 button.colab-df-convert');\n",
              "      buttonEl.style.display =\n",
              "        google.colab.kernel.accessAllowed ? 'block' : 'none';\n",
              "\n",
              "      async function convertToInteractive(key) {\n",
              "        const element = document.querySelector('#df-29e258a7-e292-4bea-b6ae-643ee07a32a9');\n",
              "        const dataTable =\n",
              "          await google.colab.kernel.invokeFunction('convertToInteractive',\n",
              "                                                    [key], {});\n",
              "        if (!dataTable) return;\n",
              "\n",
              "        const docLinkHtml = 'Like what you see? Visit the ' +\n",
              "          '<a target=\"_blank\" href=https://colab.research.google.com/notebooks/data_table.ipynb>data table notebook</a>'\n",
              "          + ' to learn more about interactive tables.';\n",
              "        element.innerHTML = '';\n",
              "        dataTable['output_type'] = 'display_data';\n",
              "        await google.colab.output.renderOutput(dataTable, element);\n",
              "        const docLink = document.createElement('div');\n",
              "        docLink.innerHTML = docLinkHtml;\n",
              "        element.appendChild(docLink);\n",
              "      }\n",
              "    </script>\n",
              "  </div>\n",
              "\n",
              "\n",
              "<div id=\"df-88e41fb0-0096-4f2d-a235-233e4d3b6be8\">\n",
              "  <button class=\"colab-df-quickchart\" onclick=\"quickchart('df-88e41fb0-0096-4f2d-a235-233e4d3b6be8')\"\n",
              "            title=\"Suggest charts\"\n",
              "            style=\"display:none;\">\n",
              "\n",
              "<svg xmlns=\"http://www.w3.org/2000/svg\" height=\"24px\"viewBox=\"0 0 24 24\"\n",
              "     width=\"24px\">\n",
              "    <g>\n",
              "        <path d=\"M19 3H5c-1.1 0-2 .9-2 2v14c0 1.1.9 2 2 2h14c1.1 0 2-.9 2-2V5c0-1.1-.9-2-2-2zM9 17H7v-7h2v7zm4 0h-2V7h2v10zm4 0h-2v-4h2v4z\"/>\n",
              "    </g>\n",
              "</svg>\n",
              "  </button>\n",
              "\n",
              "<style>\n",
              "  .colab-df-quickchart {\n",
              "      --bg-color: #E8F0FE;\n",
              "      --fill-color: #1967D2;\n",
              "      --hover-bg-color: #E2EBFA;\n",
              "      --hover-fill-color: #174EA6;\n",
              "      --disabled-fill-color: #AAA;\n",
              "      --disabled-bg-color: #DDD;\n",
              "  }\n",
              "\n",
              "  [theme=dark] .colab-df-quickchart {\n",
              "      --bg-color: #3B4455;\n",
              "      --fill-color: #D2E3FC;\n",
              "      --hover-bg-color: #434B5C;\n",
              "      --hover-fill-color: #FFFFFF;\n",
              "      --disabled-bg-color: #3B4455;\n",
              "      --disabled-fill-color: #666;\n",
              "  }\n",
              "\n",
              "  .colab-df-quickchart {\n",
              "    background-color: var(--bg-color);\n",
              "    border: none;\n",
              "    border-radius: 50%;\n",
              "    cursor: pointer;\n",
              "    display: none;\n",
              "    fill: var(--fill-color);\n",
              "    height: 32px;\n",
              "    padding: 0;\n",
              "    width: 32px;\n",
              "  }\n",
              "\n",
              "  .colab-df-quickchart:hover {\n",
              "    background-color: var(--hover-bg-color);\n",
              "    box-shadow: 0 1px 2px rgba(60, 64, 67, 0.3), 0 1px 3px 1px rgba(60, 64, 67, 0.15);\n",
              "    fill: var(--button-hover-fill-color);\n",
              "  }\n",
              "\n",
              "  .colab-df-quickchart-complete:disabled,\n",
              "  .colab-df-quickchart-complete:disabled:hover {\n",
              "    background-color: var(--disabled-bg-color);\n",
              "    fill: var(--disabled-fill-color);\n",
              "    box-shadow: none;\n",
              "  }\n",
              "\n",
              "  .colab-df-spinner {\n",
              "    border: 2px solid var(--fill-color);\n",
              "    border-color: transparent;\n",
              "    border-bottom-color: var(--fill-color);\n",
              "    animation:\n",
              "      spin 1s steps(1) infinite;\n",
              "  }\n",
              "\n",
              "  @keyframes spin {\n",
              "    0% {\n",
              "      border-color: transparent;\n",
              "      border-bottom-color: var(--fill-color);\n",
              "      border-left-color: var(--fill-color);\n",
              "    }\n",
              "    20% {\n",
              "      border-color: transparent;\n",
              "      border-left-color: var(--fill-color);\n",
              "      border-top-color: var(--fill-color);\n",
              "    }\n",
              "    30% {\n",
              "      border-color: transparent;\n",
              "      border-left-color: var(--fill-color);\n",
              "      border-top-color: var(--fill-color);\n",
              "      border-right-color: var(--fill-color);\n",
              "    }\n",
              "    40% {\n",
              "      border-color: transparent;\n",
              "      border-right-color: var(--fill-color);\n",
              "      border-top-color: var(--fill-color);\n",
              "    }\n",
              "    60% {\n",
              "      border-color: transparent;\n",
              "      border-right-color: var(--fill-color);\n",
              "    }\n",
              "    80% {\n",
              "      border-color: transparent;\n",
              "      border-right-color: var(--fill-color);\n",
              "      border-bottom-color: var(--fill-color);\n",
              "    }\n",
              "    90% {\n",
              "      border-color: transparent;\n",
              "      border-bottom-color: var(--fill-color);\n",
              "    }\n",
              "  }\n",
              "</style>\n",
              "\n",
              "  <script>\n",
              "    async function quickchart(key) {\n",
              "      const quickchartButtonEl =\n",
              "        document.querySelector('#' + key + ' button');\n",
              "      quickchartButtonEl.disabled = true;  // To prevent multiple clicks.\n",
              "      quickchartButtonEl.classList.add('colab-df-spinner');\n",
              "      try {\n",
              "        const charts = await google.colab.kernel.invokeFunction(\n",
              "            'suggestCharts', [key], {});\n",
              "      } catch (error) {\n",
              "        console.error('Error during call to suggestCharts:', error);\n",
              "      }\n",
              "      quickchartButtonEl.classList.remove('colab-df-spinner');\n",
              "      quickchartButtonEl.classList.add('colab-df-quickchart-complete');\n",
              "    }\n",
              "    (() => {\n",
              "      let quickchartButtonEl =\n",
              "        document.querySelector('#df-88e41fb0-0096-4f2d-a235-233e4d3b6be8 button');\n",
              "      quickchartButtonEl.style.display =\n",
              "        google.colab.kernel.accessAllowed ? 'block' : 'none';\n",
              "    })();\n",
              "  </script>\n",
              "</div>\n",
              "    </div>\n",
              "  </div>\n"
            ],
            "application/vnd.google.colaboratory.intrinsic+json": {
              "type": "dataframe",
              "variable_name": "clustering_data",
              "summary": "{\n  \"name\": \"clustering_data\",\n  \"rows\": 124,\n  \"fields\": [\n    {\n      \"column\": \"Id\",\n      \"properties\": {\n        \"dtype\": \"string\",\n        \"num_unique_values\": 124,\n        \"samples\": [\n          \"234\",\n          \"354\",\n          \"222\"\n        ],\n        \"semantic_type\": \"\",\n        \"description\": \"\"\n      }\n    },\n    {\n      \"column\": \"Name\",\n      \"properties\": {\n        \"dtype\": \"string\",\n        \"num_unique_values\": 122,\n        \"samples\": [\n          \"Lewis S. Ranieri\",\n          \"Sandy Warner\",\n          \"Rupert Soames\"\n        ],\n        \"semantic_type\": \"\",\n        \"description\": \"\"\n      }\n    },\n    {\n      \"column\": \"Clustering\",\n      \"properties\": {\n        \"dtype\": \"number\",\n        \"std\": 0.35369244797941485,\n        \"min\": 0.0,\n        \"max\": 1.0,\n        \"num_unique_values\": 2,\n        \"samples\": [\n          0.0,\n          1.0\n        ],\n        \"semantic_type\": \"\",\n        \"description\": \"\"\n      }\n    }\n  ]\n}"
            }
          },
          "metadata": {},
          "execution_count": 29
        }
      ]
    },
    {
      "cell_type": "markdown",
      "source": [
        "Using Equation (1), we can conclude that in Cities and Associated Entities networks, the local clustering coefficient for each node within the clique should be 1, indicating that every node forms a connection with every other pair of nodes it's connected to for every clique. Since each clique behaves like this, and there are no interconnections between the cliques, the clustering coefficient for the entire network would remain high. This is because within each clique, clustering is maximal, and there are no additional connections to dilute the clustering."
      ],
      "metadata": {
        "id": "y_sYrhB5rxJ9"
      }
    },
    {
      "cell_type": "markdown",
      "metadata": {
        "id": "52XAITEP_6o5"
      },
      "source": [
        "### Average Clustering Coefficient\n",
        "\n"
      ]
    },
    {
      "cell_type": "markdown",
      "source": [
        "The average clustering coefficient measure is used to calculate the degree of clustering around individual nodes, averaged over all nodes in the graph. It is calculated as:\n",
        "\n",
        "$\\hspace{6cm}$$C=\\frac{1}{n}\\sum_{i=1}^nC_i$$\\hspace{4cm}$(2)\n",
        "\n",
        "where n is the total number of nodes in the network and 𝐶𝑖 is the clustering coefficient for node 𝑖. The average clustering coefficient being close to 1 suggests that the network\n",
        "exhibits a high level of clustering or transitivity."
      ],
      "metadata": {
        "id": "0KkxIZyYxFic"
      }
    },
    {
      "cell_type": "code",
      "execution_count": null,
      "metadata": {
        "colab": {
          "base_uri": "https://localhost:8080/"
        },
        "id": "Xf2CqkpR_6Go",
        "outputId": "f91648ae-018f-4288-f08e-e32114a4540b"
      },
      "outputs": [
        {
          "output_type": "execute_result",
          "data": {
            "text/plain": [
              "0.14516129032258066"
            ]
          },
          "metadata": {},
          "execution_count": 33
        }
      ],
      "source": [
        "average_clustering = nx.average_clustering(G)\n",
        "average_clustering"
      ]
    },
    {
      "cell_type": "markdown",
      "source": [
        "We can conclude that nodes within the network tend to form groups or clusters where connections are dense, and nodes are highly interconnected."
      ],
      "metadata": {
        "id": "xacooyRlt0M0"
      }
    },
    {
      "cell_type": "markdown",
      "source": [
        "### Compactness\n"
      ],
      "metadata": {
        "id": "9yx9fFFJKRLa"
      }
    },
    {
      "cell_type": "markdown",
      "source": [
        "Compactness in a network refers to the efficiency of information flow, indicating how closely connected nodes are to each other by taking into consideration the weights of the edges connecting them."
      ],
      "metadata": {
        "id": "kmBK3sGyyTOT"
      }
    },
    {
      "cell_type": "code",
      "source": [
        "# Creation of a subgraph excluding the specified nodes\n",
        "subgraph_nodes = [node for node in G.nodes()]\n",
        "subgraph = G.subgraph(subgraph_nodes)"
      ],
      "metadata": {
        "id": "WvGEo4VphDSt"
      },
      "execution_count": null,
      "outputs": []
    },
    {
      "cell_type": "code",
      "source": [
        "def calc_compactness(graph):\n",
        "    shortest_path_lengths = dict(nx.all_pairs_dijkstra_path_length(graph, weight='weight'))\n",
        "\n",
        "    total_compactness = 0\n",
        "    total_pairs = 0\n",
        "\n",
        "    for source, lengths in shortest_path_lengths.items():\n",
        "        for target, distance in lengths.items():\n",
        "            if source != target:\n",
        "                total_compactness += 1 / distance\n",
        "                total_pairs += 1\n",
        "\n",
        "    if total_pairs == 0:\n",
        "        return 0\n",
        "\n",
        "    return total_compactness / total_pairs\n",
        "\n",
        "compactness_all = calc_compactness(G)\n",
        "print(\"Compactness of the network : \", compactness_all)\n"
      ],
      "metadata": {
        "colab": {
          "base_uri": "https://localhost:8080/"
        },
        "id": "QZU2K9D_KP9T",
        "outputId": "c9dfe39e-2eaa-4737-e26a-1f4161707558"
      },
      "execution_count": null,
      "outputs": [
        {
          "output_type": "stream",
          "name": "stdout",
          "text": [
            "Compactness of the network :  1.0\n"
          ]
        }
      ]
    },
    {
      "cell_type": "markdown",
      "source": [
        "The compactness measurement result of 1.0 for both the Cities and Associated Entities networks indicates a remarkable level of cohesion within these networks. A compactness score of 1.0 suggests that every node within these networks is interconnected. This phenomenon reflects a tightly knit structure where individuals are densely connected, typically indicative of strong relationships or affiliations."
      ],
      "metadata": {
        "id": "hzqg6rzTyYl6"
      }
    },
    {
      "cell_type": "markdown",
      "metadata": {
        "id": "jlxQ9Eqi-1AK"
      },
      "source": [
        "### Transitivity\n",
        "\n",
        "To measure the likelihood that two nodes connected to the same node are also connected to each other, we used the transitivity measure. It gives the ratio of closed triangles to all possible triangles in the graph, providing insight into the global clustering structure of the graph."
      ]
    },
    {
      "cell_type": "code",
      "execution_count": null,
      "metadata": {
        "colab": {
          "base_uri": "https://localhost:8080/"
        },
        "id": "3bi9KKf5-2_W",
        "outputId": "dafc2984-c321-46db-9230-0853cdd31581"
      },
      "outputs": [
        {
          "output_type": "stream",
          "name": "stdout",
          "text": [
            "Transitivity:  1.0\n"
          ]
        }
      ],
      "source": [
        "transitivity = nx.transitivity(G)\n",
        "print(\"Transitivity: \", transitivity)"
      ]
    },
    {
      "cell_type": "markdown",
      "source": [
        "For Cities and Associated Entity network analysis, the network is composed entirely of transitive cliques, and there are no connections between nodes in different cliques, so the entire network also has a transitivity value of 1.0. This means that every possible triad of nodes in the network forms a closed triangle, and essentially, the network exhibits maximal transitivity, reflecting the tight-knit relationships and interconnectedness among individuals within each clique."
      ],
      "metadata": {
        "id": "4m6J-RiPuDJe"
      }
    },
    {
      "cell_type": "markdown",
      "source": [
        "## **Other measurements**"
      ],
      "metadata": {
        "id": "F4YdxORJ_nFA"
      }
    },
    {
      "cell_type": "markdown",
      "source": [
        "### Small Worldness"
      ],
      "metadata": {
        "id": "LiudV1eiw-_O"
      }
    },
    {
      "cell_type": "markdown",
      "metadata": {
        "id": "V5eUIWT0WLD_"
      },
      "source": [
        "\n",
        "\n",
        "The concept of small-worldness in network theory refers to the phenomenon where most nodes in a network can be reached from every other node by a small number of steps. In the context of Jeffrey Epstein's network analysis, small-worldness provides insights into the network's structure and the ease of information flow and communication among individuals.\n",
        "\n",
        "The σ and ω coefficients, which were calculated to determine the likelihood that our networks exhibit small-worldness properties, are given as:\n",
        "\n",
        "$\\hspace{6cm}$$σ=\\frac{\\frac{C}{C_r}}{\\frac{L}{L_r}}$ ,$\\hspace{4cm}$(3)<br>\n",
        "\n",
        "$\\hspace{6cm}$$ω=\\frac{L}{L_r}-\\frac{C}{C_l}$$\\hspace{3cm}$(4)\n",
        "\n",
        "where C and L represent, respectively, the average clustering coefficient and the average shortest path length; Lr represents the average shortest path length of an equivalent random graph, Cr represents the average clustering coefficient of an equivalent random graph, and Cl represents the average clustering coefficient of an equivalent lattice graph.\n",
        "\n",
        "Equation (3) and Equation (4) show that the sigma coefficient (σ) reflects the balance between clustering and average path lengths in the network whereas the omega coefficient (ω) compares the clustering coefficient and average shortest path length of the actual network to those of random and regular lattice networks. The Omega value ranges from -1 to 1, with a positive value indicating a network more like a random graph, and a negative value indicating a network more like a lattice graph, whereas values close to 0 mean that G has small-world characteristics8. The sigma coefficient of a small-world network typically is significantly greater than 1, indicating that it has a higher clustering coefficient and a similar or only slightly longer average path length compared to a random network.\n",
        "\n",
        "The small-worldness analysis is not applied to Cities and Associated networks, because they essentially are a collection of disconnected subgraphs, each subgraph being a perfectly transitive clique. As a result, the average shortest path length between any pair of nodes in different cliques would be infinite. The clustering coefficients within each clique are high since each node is connected to every other node within the clique. However, this clustering doesn't extend beyond the boundaries of the clique.\n",
        "\n",
        "Therefore, while each clique individually might have characteristics of a small-world network (high clustering coefficient, short average path length within the clique), we cannot conclude that the whole network exhibits small-world properties.\n",
        "\n"
      ]
    },
    {
      "cell_type": "markdown",
      "metadata": {
        "id": "3KNNt62stWbk"
      },
      "source": [
        "### Degree of distribution\n",
        "\n"
      ]
    },
    {
      "cell_type": "markdown",
      "source": [
        "Scale-free networks, as a characteristic of many real-world networks, exhibit a hierarchical structure where a few highly connected nodes, referred to as hubs, coexist with numerous nodes having only a few connections. This results in a degree distribution that follows a power-law distribution, contrasting with the more evenly distributed degree distribution observed in random networks.\n",
        "\n",
        "To assess whether the nodes' degrees in Epstein's networks follow a power-law distribution, we compute the Scaling Coefficient (α) as follows:\n",
        "\n",
        "$\\hspace{6cm}$$α=1+n(\\sum_{i=1}^nln\\frac{d}{d_{min}-\\frac{1}{2}})^{-1}$$\\hspace{4cm}$(5)\n",
        "\n",
        "In Equation (5), n is the number of nodes in our network, 𝑑𝑖 is the degree of the node\n",
        "i, and 𝑑𝑚𝑖𝑛 is the minimum degree in the graph. The Scaling Coefficient (α) quantifies the\n",
        "degree to which the degree distribution follows a power-law distribution. In power-law distributions, we observe the condition 2 ≤ α ≤ 3."
      ],
      "metadata": {
        "id": "65263FkPypHV"
      }
    },
    {
      "cell_type": "code",
      "execution_count": null,
      "metadata": {
        "colab": {
          "base_uri": "https://localhost:8080/",
          "height": 472
        },
        "id": "ew8Blq2FRmBP",
        "outputId": "5bdbb90f-357c-45f5-8e4f-066d8fc37b64"
      },
      "outputs": [
        {
          "output_type": "display_data",
          "data": {
            "text/plain": [
              "<Figure size 640x480 with 1 Axes>"
            ],
            "image/png": "[encoded data removed]"
          },
          "metadata": {}
        }
      ],
      "source": [
        "degree_distribution = dict(nx.degree(G))\n",
        "\n",
        "max_degree = max(degree_distribution.values())\n",
        "min_degree = min(degree_distribution.values())\n",
        "\n",
        "plt.hist(degree_distribution.values(), bins=max_degree+1, range=(min_degree, max_degree+1), color='skyblue', edgecolor='black')\n",
        "plt.xlabel('Degree')\n",
        "plt.ylabel('Frequency')\n",
        "plt.title('Degree Distribution')\n",
        "plt.show()"
      ]
    },
    {
      "cell_type": "code",
      "source": [
        "degree_distribution_list = [G.degree(node) for node in G]\n",
        "\n",
        "shifted_degree_distribution_list = [degree for degree in degree_distribution_list]\n",
        "\n",
        "shifted_degree_distribution_list = [max(0, degree) for degree in shifted_degree_distribution_list]\n",
        "\n",
        "n = len(shifted_degree_distribution_list)\n",
        "sum_val = sum(np.log(degree) for degree in shifted_degree_distribution_list)\n",
        "\n",
        "alpha = 1 + n * (sum_val ** -1)\n",
        "print(\"Alpha =\", alpha)"
      ],
      "metadata": {
        "colab": {
          "base_uri": "https://localhost:8080/"
        },
        "id": "QXauOaKJdumC",
        "outputId": "efc1671a-824e-4f55-9982-788b55901489"
      },
      "execution_count": null,
      "outputs": [
        {
          "output_type": "stream",
          "name": "stdout",
          "text": [
            "Alpha = 6.246973526156179\n"
          ]
        }
      ]
    },
    {
      "cell_type": "markdown",
      "source": [
        "A higher alpha value, the one we observed for the Associated Entities network, signifies a heavy-tailed distribution, indicating the presence of outliers with significantly higher degrees compared to the majority of nodes. This phenomenon is largely influenced by the abundance of outliers with only one edge in our network, which skews the distribution."
      ],
      "metadata": {
        "id": "1NILYUCMz8yz"
      }
    }
  ]
}